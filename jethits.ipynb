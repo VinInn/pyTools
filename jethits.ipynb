{
 "cells": [
  {
   "cell_type": "code",
   "execution_count": 3,
   "metadata": {
    "collapsed": false
   },
   "outputs": [
    {
     "name": "stdout",
     "output_type": "stream",
     "text": [
      "/afs/cern.ch/work/i/innocent/public/code/s7/CMSSW_9_4_0_pre3\n",
      "/afs/cern.ch/user/i/innocent/pyTools\n",
      "Linux vinavx3.cern.ch 3.10.0-693.2.2.el7.x86_64 #1 SMP Tue Sep 12 22:26:13 UTC 2017 x86_64 x86_64 x86_64 GNU/Linux\n",
      "innocent\n"
     ]
    }
   ],
   "source": [
    "%%bash\n",
    "echo $CMSSW_BASE\n",
    "echo $PWD\n",
    "uname -a\n",
    "whoami"
   ]
  },
  {
   "cell_type": "code",
   "execution_count": 4,
   "metadata": {
    "collapsed": false
   },
   "outputs": [
    {
     "name": "stdout",
     "output_type": "stream",
     "text": [
      "BXVector<l1t::Jet>                    \"caloStage2Digis\"           \"Jet\"             \"RECO\"    \n",
      "vector<l1extra::L1JetParticle>        \"l1extraParticles\"          \"Central\"         \"RECO\"    \n",
      "vector<l1extra::L1JetParticle>        \"l1extraParticles\"          \"Forward\"         \"RECO\"    \n",
      "vector<l1extra::L1JetParticle>        \"l1extraParticles\"          \"IsoTau\"          \"RECO\"    \n",
      "vector<l1extra::L1JetParticle>        \"l1extraParticles\"          \"Tau\"             \"RECO\"    \n",
      "vector<pat::Jet>                      \"slimmedJets\"               \"\"                \"RECO\"    \n",
      "vector<pat::Jet>                      \"slimmedJetsAK8\"            \"\"                \"RECO\"    \n",
      "vector<pat::Jet>                      \"slimmedJetsPuppi\"          \"\"                \"RECO\"    \n",
      "vector<pat::Jet>                      \"slimmedJetsAK8PFPuppiSoftDropPacked\"   \"SubJets\"         \"RECO\"    \n"
     ]
    }
   ],
   "source": [
    "%%bash\n",
    "edmDumpEventContent root://eoscms.cern.ch///store/data/Run2017F/JetHT/MINIAOD/PromptReco-v1/000/306/091/00000/CA5F7509-04C4-E711-B9B5-02163E011932.root | grep Jet"
   ]
  },
  {
   "cell_type": "code",
   "execution_count": 5,
   "metadata": {
    "collapsed": true
   },
   "outputs": [],
   "source": [
    "import numpy as np\n",
    "import matplotlib.pyplot as plt\n",
    "%matplotlib inline\n",
    "import math\n",
    "import time\n"
   ]
  },
  {
   "cell_type": "code",
   "execution_count": 6,
   "metadata": {
    "collapsed": false
   },
   "outputs": [
    {
     "data": {
      "application/javascript": [
       "IPython.OutputArea.prototype._should_scroll = function(lines) {\n",
       "    return false;\n",
       "}"
      ],
      "text/plain": [
       "<IPython.core.display.Javascript object>"
      ]
     },
     "metadata": {},
     "output_type": "display_data"
    }
   ],
   "source": [
    "%%javascript\n",
    "IPython.OutputArea.prototype._should_scroll = function(lines) {\n",
    "    return false;\n",
    "}"
   ]
  },
  {
   "cell_type": "code",
   "execution_count": 7,
   "metadata": {
    "collapsed": false
   },
   "outputs": [
    {
     "name": "stdout",
     "output_type": "stream",
     "text": [
      "Welcome to JupyROOT 6.10/09\n"
     ]
    }
   ],
   "source": [
    "from DataFormats.FWLite import Handle, Events"
   ]
  },
  {
   "cell_type": "code",
   "execution_count": 8,
   "metadata": {
    "collapsed": true
   },
   "outputs": [],
   "source": [
    "def files() :\n",
    "    return [\n",
    "        'root://eoscms.cern.ch///store/data/Run2017F/JetHT/MINIAOD/PromptReco-v1/000/306/091/00000/CA5F7509-04C4-E711-B9B5-02163E011932.root',\n",
    "    ]"
   ]
  },
  {
   "cell_type": "code",
   "execution_count": 50,
   "metadata": {
    "collapsed": true
   },
   "outputs": [],
   "source": [
    "def runid(event,lumi) :\n",
    "    id = event.object().id()\n",
    "    a=event.getByLabel('scalersRawToDigi', lumi)\n",
    "    return '{:d}:{:d}:{:.2e}'.format(int(id.run()),int(id.luminosityBlock()),\\\n",
    "                                     lumi.product()[0].instantLumi() if not lumi.product().empty() else 0)"
   ]
  },
  {
   "cell_type": "code",
   "execution_count": 51,
   "metadata": {
    "collapsed": false
   },
   "outputs": [],
   "source": [
    "def avgHits(jet):\n",
    "    daus = [ jet.daughter(i) for i in xrange(jet.numberOfDaughters()) ]\n",
    "    hits = [ d.pixelLayersWithMeasurement() for d in daus if d.charge() != 0 and d.hasTrackDetails() ]\n",
    "    return float(sum(hits))/float(len(hits)) if hits else -99.0                                    "
   ]
  },
  {
   "cell_type": "code",
   "execution_count": 52,
   "metadata": {
    "collapsed": false
   },
   "outputs": [],
   "source": [
    "def loadJets(fevents) :\n",
    "    print fevents\n",
    "    events = Events(fevents)\n",
    "    print events.size()\n",
    "    jets = Handle('vector<pat::Jet>')\n",
    "    lumi = Handle(\"std::vector<LumiScalers>\")\n",
    "    evidsA = []\n",
    "    jtParsA = []\n",
    "    for i in range(0,events.size()) :\n",
    "      if (len(jtParsA) > 1000000) : break\n",
    "      a= events.to(i)\n",
    "      evid = runid(events,lumi)\n",
    "      if (i%5000==0) : \n",
    "        print \"Event\", i , evid, len(jtParsA)\n",
    "      a=events.getByLabel(\"slimmedJets\", jets)\n",
    "      for jt in jets.product() :\n",
    "        ah = avgHits(jt)\n",
    "        if (ah>-1.):\n",
    "            evidsA.append(evid)\n",
    "            jtParsA.append([jt.eta(),jt.phi(),jt.pt(),ah])\n",
    "        \n",
    "    print len(jtParsA)\n",
    "    jtPars = np.array(zip(*jtParsA), dtype=np.float)\n",
    "    print len(jtPars)\n",
    "    evids = np.array(evidsA,dtype=np.str)\n",
    "    return (evids,jtPars)"
   ]
  },
  {
   "cell_type": "code",
   "execution_count": 53,
   "metadata": {
    "collapsed": false
   },
   "outputs": [
    {
     "name": "stdout",
     "output_type": "stream",
     "text": [
      "root://eoscms.cern.ch///store/data/Run2017F/JetHT/MINIAOD/PromptReco-v1/000/306/091/00000/CA5F7509-04C4-E711-B9B5-02163E011932.root\n",
      "51394\n",
      "Event 0 306091:426:1.52e+04 0\n",
      "Event 5000 306091:440:1.51e+04 58133\n",
      "Event 10000 306091:450:1.50e+04 115900\n",
      "Event 15000 306091:464:1.49e+04 173266\n",
      "Event 20000 306091:468:9.50e+03 225034\n",
      "Event 25000 306091:509:1.50e+04 283316\n",
      "Event 30000 306091:524:1.48e+04 340542\n",
      "Event 35000 306091:552:1.45e+04 396771\n",
      "Event 40000 306091:579:1.42e+04 452705\n",
      "Event 45000 306091:583:1.42e+04 508300\n",
      "Event 50000 306091:589:1.42e+04 563372\n",
      "578649\n",
      "4\n"
     ]
    }
   ],
   "source": [
    "evids, jtPars = loadJets(files()[0])"
   ]
  },
  {
   "cell_type": "code",
   "execution_count": 54,
   "metadata": {
    "collapsed": true
   },
   "outputs": [],
   "source": [
    "def nhit(var,jtPars) :\n",
    "    nbins = 62\n",
    "    hp = np.greater(jtPars[2],15.)\n",
    "    yn,x = np.histogram(jtPars[var],np.linspace(-3.1,3.1,nbins),weights=jtPars[3]*hp)\n",
    "    ya,x = np.histogram(jtPars[var],np.linspace(-3.1,3.1,nbins),weights=1.*hp)\n",
    "    x.resize(len(ya))\n",
    "    return x,yn/ya,ya"
   ]
  },
  {
   "cell_type": "code",
   "execution_count": 55,
   "metadata": {
    "collapsed": false
   },
   "outputs": [
    {
     "data": {
      "image/png": "[encoded data removed]",
      "text/plain": [
       "<matplotlib.figure.Figure at 0x7ff43d448f10>"
      ]
     },
     "metadata": {},
     "output_type": "display_data"
    },
    {
     "data": {
      "image/png": "[encoded data removed]",
      "text/plain": [
       "<matplotlib.figure.Figure at 0x7ff442229750>"
      ]
     },
     "metadata": {},
     "output_type": "display_data"
    },
    {
     "data": {
      "image/png": "[encoded data removed]",
      "text/plain": [
       "<matplotlib.figure.Figure at 0x7ff43be96490>"
      ]
     },
     "metadata": {},
     "output_type": "display_data"
    },
    {
     "data": {
      "image/png": "[encoded data removed]",
      "text/plain": [
       "<matplotlib.figure.Figure at 0x7ff43c866f10>"
      ]
     },
     "metadata": {},
     "output_type": "display_data"
    }
   ],
   "source": [
    "eta=0\n",
    "phi=1\n",
    "pt=2\n",
    "nh=3\n",
    "hp = np.greater(jtPars[pt],15.)\n",
    "h3 = np.equal(jtPars[nh],3.)\n",
    "\n",
    "ya,x = np.histogram(jtPars[nh],np.linspace(0,6,48),weights=1.*hp)\n",
    "x.resize(len(ya))\n",
    "plt.step(x,ya,where='post',label='run xyz, lumi??')\n",
    "plt.grid(True)\n",
    "plt.legend(bbox_to_anchor=(1.05, 1), loc=2, borderaxespad=0.)\n",
    "plt.xlim(0, 6)\n",
    "plt.xlabel('<Nhits>')\n",
    "plt.ylabel('Events')\n",
    "plt.show()\n",
    "\n",
    "ya,x = np.histogram(jtPars[eta],np.linspace(-3.1,3.1,62),weights=1.*h3)\n",
    "x.resize(len(ya))\n",
    "plt.step(x,ya,where='post',label='run xyz, lumi??')\n",
    "plt.grid(True)\n",
    "plt.legend(bbox_to_anchor=(1.05, 1), loc=2, borderaxespad=0.)\n",
    "plt.xlim(-3.1,3.1)\n",
    "plt.xlabel('eta')\n",
    "plt.ylabel('Events')\n",
    "plt.show()\n",
    "\n",
    "\n",
    "\n",
    "x,y,ya = nhit(eta,jtPars)\n",
    "\n",
    "plt.step(x,y,where='post',label='run xyz, lumi??')\n",
    "plt.grid(True)\n",
    "plt.legend(bbox_to_anchor=(1.05, 1), loc=2, borderaxespad=0.)\n",
    "plt.xlim(-3.1, 3.1)\n",
    "plt.xlabel('eta')\n",
    "plt.ylabel('<Nhits>')\n",
    "plt.show()\n",
    "\n",
    "x,y,ya = nhit(phi,jtPars)\n",
    "plt.step(x,y,where='post',label='run xyz, lumi??')\n",
    "plt.grid(True)\n",
    "plt.legend(bbox_to_anchor=(1.05, 1), loc=2, borderaxespad=0.)\n",
    "plt.xlim(-3.1, 3.1)\n",
    "plt.xlabel('phi')\n",
    "plt.ylabel('<Nhits>')\n",
    "plt.show()"
   ]
  },
  {
   "cell_type": "code",
   "execution_count": 56,
   "metadata": {
    "collapsed": false
   },
   "outputs": [
    {
     "data": {
      "text/plain": [
       "<matplotlib.colorbar.Colorbar at 0x7ff4426a0d50>"
      ]
     },
     "execution_count": 56,
     "metadata": {},
     "output_type": "execute_result"
    },
    {
     "data": {
      "image/png": "[encoded data removed]",
      "text/plain": [
       "<matplotlib.figure.Figure at 0x7ff442229850>"
      ]
     },
     "metadata": {},
     "output_type": "display_data"
    }
   ],
   "source": [
    "nbins = 31\n",
    "edges = np.linspace(-3.1,3.1,nbins)\n",
    "hp = np.greater(jtPars[2],15.)\n",
    "zn,x,y = np.histogram2d(jtPars[0],jtPars[1],bins=(edges, edges),weights=jtPars[3]*hp)\n",
    "za,x,y = np.histogram2d(jtPars[0],jtPars[1],bins=(edges, edges),weights=1.*hp)\n",
    "z=zn.T/za.T\n",
    "#print zn,za\n",
    "#    return x,yn/ya,ya\n",
    "plt.imshow(z, interpolation='nearest', origin='low', extent=[edges[0], edges[-1], edges[0], edges[-1]])\n",
    "plt.colorbar()\n"
   ]
  }
 ],
 "metadata": {
  "kernelspec": {
   "display_name": "Python 2",
   "language": "python",
   "name": "python2"
  },
  "language_info": {
   "codemirror_mode": {
    "name": "ipython",
    "version": 2
   },
   "file_extension": ".py",
   "mimetype": "text/x-python",
   "name": "python",
   "nbconvert_exporter": "python",
   "pygments_lexer": "ipython2",
   "version": "2.7.11"
  }
 },
 "nbformat": 4,
 "nbformat_minor": 2
}
