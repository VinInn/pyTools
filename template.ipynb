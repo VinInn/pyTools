{
 "cells": [
  {
   "cell_type": "code",
   "execution_count": 1,
   "metadata": {
    "collapsed": false
   },
   "outputs": [
    {
     "data": {
      "application/javascript": [
       "IPython.OutputArea.prototype._should_scroll = function(lines) {\n",
       "    return false;\n",
       "}"
      ],
      "text/plain": [
       "<IPython.core.display.Javascript object>"
      ]
     },
     "metadata": {},
     "output_type": "display_data"
    }
   ],
   "source": [
    "%%javascript\n",
    "IPython.OutputArea.prototype._should_scroll = function(lines) {\n",
    "    return false;\n",
    "}"
   ]
  },
  {
   "cell_type": "code",
   "execution_count": 2,
   "metadata": {
    "collapsed": false
   },
   "outputs": [
    {
     "name": "stdout",
     "output_type": "stream",
     "text": [
      "Linux lxplus005.cern.ch 3.10.0-693.2.2.el7.x86_64 #1 SMP Tue Sep 12 22:26:13 UTC 2017 x86_64 x86_64 x86_64 GNU/Linux\n",
      "innocent\n",
      "/cvmfs/cms.cern.ch/slc7_amd64_gcc630/cms/cmssw/CMSSW_9_4_0/bin/slc7_amd64_gcc630/cmsRun\n"
     ]
    }
   ],
   "source": [
    "%%bash\n",
    "uname -a\n",
    "whoami\n",
    "\n",
    "which cmsRun"
   ]
  },
  {
   "cell_type": "code",
   "execution_count": 3,
   "metadata": {
    "collapsed": false
   },
   "outputs": [
    {
     "name": "stdout",
     "output_type": "stream",
     "text": [
      "Welcome to JupyROOT 6.10/09\n"
     ]
    }
   ],
   "source": [
    "import numpy as np\n",
    "import matplotlib.pyplot as plt\n",
    "%matplotlib inline\n",
    "import math\n",
    "import time\n",
    "from multiprocessing import Pool\n",
    "from DataFormats.FWLite import Handle, Events\n",
    "from FWLiteUtils import *"
   ]
  },
  {
   "cell_type": "code",
   "execution_count": 8,
   "metadata": {
    "collapsed": false
   },
   "outputs": [
    {
     "name": "stdout",
     "output_type": "stream",
     "text": [
      "\n"
     ]
    }
   ],
   "source": [
    "def test() :\n",
    "    f = tier0+'/store/data/Run2017F/ZeroBias4/MINIAOD/PromptReco-v1/000/306/432/00000/8E9534C0-40C7-E711-A529-02163E0140D6.root'  \n",
    "    events = Events(f)\n",
    "    ls = eventsInLumiRange(events,300,330)\n",
    "    mini = Mini()\n",
    "    for i in range(ls[0],ls[1]) :\n",
    "      a= events.to(i)\n",
    "      mini.set(events)\n",
    "      evid = runid(events,mini.lumi[0])\n",
    "      if (i%5000==0) : \n",
    "        print \"Event\", i , evid\n",
    "    print 'done'\n",
    " "
   ]
  },
  {
   "cell_type": "code",
   "execution_count": 9,
   "metadata": {
    "collapsed": false
   },
   "outputs": [
    {
     "name": "stdout",
     "output_type": "stream",
     "text": [
      "Event 490000 306432:301:3.20e+02\n",
      "Event 495000 306432:301:2.87e+02\n",
      "Event 500000 306432:304:1.98e+02\n",
      "Event 505000 306432:304:1.97e+02\n",
      "Event 510000 306432:305:1.96e+02\n",
      "Event 515000 306432:310:2.01e+02\n",
      "Event 520000 306432:310:2.00e+02\n",
      "Event 525000 306432:311:2.01e+02\n",
      "Event 530000 306432:311:1.99e+02\n",
      "Event 535000 306432:315:2.01e+02\n",
      "Event 540000 306432:315:2.02e+02\n",
      "Event 545000 306432:321:1.37e+02\n",
      "Event 550000 306432:322:1.02e+02\n",
      "Event 555000 306432:322:1.11e+02\n",
      "Event 560000 306432:327:1.01e+02\n",
      "Event 565000 306432:327:1.02e+02\n",
      "Event 570000 306432:329:1.01e+02\n",
      "Event 575000 306432:329:1.01e+02\n",
      "done\n"
     ]
    }
   ],
   "source": [
    "test()"
   ]
  }
 ],
 "metadata": {
  "kernelspec": {
   "display_name": "Python 2",
   "language": "python",
   "name": "python2"
  },
  "language_info": {
   "codemirror_mode": {
    "name": "ipython",
    "version": 2
   },
   "file_extension": ".py",
   "mimetype": "text/x-python",
   "name": "python",
   "nbconvert_exporter": "python",
   "pygments_lexer": "ipython2",
   "version": "2.7.11"
  }
 },
 "nbformat": 4,
 "nbformat_minor": 2
}
