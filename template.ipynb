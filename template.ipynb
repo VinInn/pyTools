{
 "cells": [
  {
   "cell_type": "code",
   "execution_count": 3,
   "metadata": {
    "collapsed": false
   },
   "outputs": [
    {
     "data": {
      "application/javascript": [
       "IPython.OutputArea.prototype._should_scroll = function(lines) {\n",
       "    return false;\n",
       "}"
      ],
      "text/plain": [
       "<IPython.core.display.Javascript object>"
      ]
     },
     "metadata": {},
     "output_type": "display_data"
    }
   ],
   "source": [
    "%%javascript\n",
    "IPython.OutputArea.prototype._should_scroll = function(lines) {\n",
    "    return false;\n",
    "}"
   ]
  },
  {
   "cell_type": "code",
   "execution_count": 4,
   "metadata": {
    "collapsed": false
   },
   "outputs": [
    {
     "name": "stdout",
     "output_type": "stream",
     "text": [
      "Linux lxplus005.cern.ch 3.10.0-693.2.2.el7.x86_64 #1 SMP Tue Sep 12 22:26:13 UTC 2017 x86_64 x86_64 x86_64 GNU/Linux\n",
      "innocent\n",
      "/cvmfs/cms.cern.ch/slc7_amd64_gcc630/cms/cmssw/CMSSW_9_4_0/bin/slc7_amd64_gcc630/cmsRun\n"
     ]
    }
   ],
   "source": [
    "%%bash\n",
    "uname -a\n",
    "whoami\n",
    "\n",
    "which cmsRun"
   ]
  },
  {
   "cell_type": "code",
   "execution_count": 5,
   "metadata": {
    "collapsed": false
   },
   "outputs": [
    {
     "name": "stdout",
     "output_type": "stream",
     "text": [
      "Welcome to JupyROOT 6.10/09\n"
     ]
    }
   ],
   "source": [
    "import numpy as np\n",
    "import matplotlib.pyplot as plt\n",
    "%matplotlib inline\n",
    "import math\n",
    "import time\n",
    "from multiprocessing import Pool\n",
    "from DataFormats.FWLite import Handle, Events\n",
    "from FWLiteUtils import *"
   ]
  },
  {
   "cell_type": "code",
   "execution_count": null,
   "metadata": {
    "collapsed": false
   },
   "outputs": [],
   "source": [
    "def test() :\n",
    "    f1 = tier0+'/store/data/Run2017F/ZeroBias4/MINIAOD/PromptReco-v1/000/306/432/00000/8E9534C0-40C7-E711-A529-02163E0140D6.root'  \n",
    "    f2 = tier0+'/store/data/Run2017F/ZeroBias/MINIAOD/PromptReco-v1/000/306/135/00000/8C5C6752-63C5-E711-B4C4-02163E0120F0.root'\n",
    "    events = Events(f2)\n",
    "#    ls = eventsInLumiRange(events,300,330)\n",
    "    ls = eventsInLumiRange(events,0,1000)\n",
    "    mini = Mini()\n",
    "    a= events.to(ls[0])\n",
    "    mini.set(events)\n",
    "    names = events.object().triggerNames(mini.triggerBits[0].product())\n",
    "    for i in xrange(mini.triggerBits[0].product().size()):\n",
    "        if mini.triggerBits[0].product().accept(i) :print \"Trigger \", i, names.triggerName(i)\n",
    "            \n",
    "    for i in range(ls[0],ls[1]) :\n",
    "      a= events.to(i)\n",
    "      mini.set(events)\n",
    "      evid = runid(events,mini.lumi[0])\n",
    "      if (i%5000==0) : \n",
    "        print \"Event\", i , evid\n",
    "        for i in xrange(mini.triggerBits[0].product().size()):\n",
    "          if mini.triggerBits[0].product().accept(i) :print \"Trigger \", i, names.triggerName(i)\n",
    "    print 'done'\n",
    " "
   ]
  },
  {
   "cell_type": "code",
   "execution_count": null,
   "metadata": {
    "collapsed": false
   },
   "outputs": [
    {
     "name": "stdout",
     "output_type": "stream",
     "text": [
      "Trigger  502 HLT_ZeroBias_FirstCollisionAfterAbortGap_v5\n",
      "Event 0 306135:94:1.50e+04\n",
      "Trigger  502 HLT_ZeroBias_FirstCollisionAfterAbortGap_v5\n",
      "Event 5000 306135:109:1.47e+04\n",
      "Trigger  506 HLT_ZeroBias_FirstBXAfterTrain_v3\n",
      "Event 10000 306135:134:1.49e+04\n",
      "Trigger  439 HLT_Random_v3\n",
      "Trigger  508 AlCa_LumiPixels_Random_v4\n",
      "Event 15000 306135:136:1.50e+04\n",
      "Trigger  505 HLT_ZeroBias_LastCollisionInTrain_v3\n",
      "Event 20000 306135:215:1.47e+04\n",
      "Trigger  440 HLT_ZeroBias_v6\n",
      "Trigger  449 DST_ZeroBias_v2\n",
      "Trigger  490 AlCa_EcalPhiSym_v8\n",
      "Trigger  509 AlCa_LumiPixels_ZeroBias_v8\n",
      "Event 25000 306135:219:1.48e+04\n",
      "Trigger  506 HLT_ZeroBias_FirstBXAfterTrain_v3\n",
      "Event 30000 306135:257:1.50e+04\n",
      "Trigger  440 HLT_ZeroBias_v6\n",
      "Trigger  449 DST_ZeroBias_v2\n",
      "Trigger  490 AlCa_EcalPhiSym_v8\n",
      "Trigger  509 AlCa_LumiPixels_ZeroBias_v8\n",
      "Event 35000 306135:266:1.48e+04\n",
      "Trigger  440 HLT_ZeroBias_v6\n",
      "Trigger  449 DST_ZeroBias_v2\n",
      "Trigger  490 AlCa_EcalPhiSym_v8\n",
      "Trigger  509 AlCa_LumiPixels_ZeroBias_v8\n",
      "Event 40000 306135:352:1.50e+04\n",
      "Trigger  440 HLT_ZeroBias_v6\n",
      "Trigger  449 DST_ZeroBias_v2\n",
      "Trigger  490 AlCa_EcalPhiSym_v8\n",
      "Trigger  509 AlCa_LumiPixels_ZeroBias_v8\n",
      "Event 45000 306135:370:1.48e+04\n",
      "Trigger  440 HLT_ZeroBias_v6\n",
      "Trigger  449 DST_ZeroBias_v2\n",
      "Trigger  490 AlCa_EcalPhiSym_v8\n",
      "Trigger  509 AlCa_LumiPixels_ZeroBias_v8\n",
      "Event 50000 306135:424:1.48e+04\n",
      "Trigger  440 HLT_ZeroBias_v6\n",
      "Trigger  449 DST_ZeroBias_v2\n",
      "Trigger  490 AlCa_EcalPhiSym_v8\n",
      "Trigger  509 AlCa_LumiPixels_ZeroBias_v8\n",
      "Event 55000 306135:492:1.33e+04\n",
      "Trigger  438 DST_Physics_v7\n",
      "Trigger  506 HLT_ZeroBias_FirstBXAfterTrain_v3\n",
      "Event 60000 306135:516:1.44e+04\n",
      "Trigger  440 HLT_ZeroBias_v6\n",
      "Trigger  449 DST_ZeroBias_v2\n",
      "Trigger  490 AlCa_EcalPhiSym_v8\n",
      "Trigger  509 AlCa_LumiPixels_ZeroBias_v8\n",
      "Event 65000 306135:645:1.40e+04\n",
      "Trigger  502 HLT_ZeroBias_FirstCollisionAfterAbortGap_v5\n",
      "Event 70000 306135:680:1.36e+04\n",
      "Trigger  502 HLT_ZeroBias_FirstCollisionAfterAbortGap_v5\n",
      "Event 75000 306135:712:1.33e+04\n",
      "Trigger  440 HLT_ZeroBias_v6\n",
      "Trigger  449 DST_ZeroBias_v2\n",
      "Trigger  490 AlCa_EcalPhiSym_v8\n",
      "Trigger  509 AlCa_LumiPixels_ZeroBias_v8\n",
      "Event 80000 306135:754:1.30e+04\n",
      "Trigger  502 HLT_ZeroBias_FirstCollisionAfterAbortGap_v5\n",
      "Event 85000 306135:854:1.22e+04\n",
      "Trigger  505 HLT_ZeroBias_LastCollisionInTrain_v3\n",
      "Event 90000 306135:876:1.20e+04\n",
      "Trigger  440 HLT_ZeroBias_v6\n",
      "Trigger  449 DST_ZeroBias_v2\n",
      "Trigger  490 AlCa_EcalPhiSym_v8\n",
      "Trigger  509 AlCa_LumiPixels_ZeroBias_v8\n"
     ]
    }
   ],
   "source": [
    "test()"
   ]
  }
 ],
 "metadata": {
  "kernelspec": {
   "display_name": "Python 2",
   "language": "python",
   "name": "python2"
  }
 },
 "nbformat": 4,
 "nbformat_minor": 2
}
