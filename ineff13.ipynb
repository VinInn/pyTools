{
 "cells": [
  {
   "cell_type": "code",
   "execution_count": 1,
   "metadata": {
    "collapsed": false
   },
   "outputs": [
    {
     "name": "stdout",
     "output_type": "stream",
     "text": [
      "/afs/cern.ch/work/i/innocent/public/code/s7/CMSSW_9_3_0_pre2\n",
      "/afs/cern.ch/user/i/innocent/pyTools\n"
     ]
    }
   ],
   "source": [
    "%%bash\n",
    "echo $CMSSW_BASE\n",
    "echo $PWD"
   ]
  },
  {
   "cell_type": "code",
   "execution_count": 2,
   "metadata": {
    "collapsed": false
   },
   "outputs": [
    {
     "name": "stdout",
     "output_type": "stream",
     "text": [
      "Linux vinavx3.cern.ch 3.10.0-514.10.2.el7.x86_64 #1 SMP Fri Mar 3 00:04:05 UTC 2017 x86_64 x86_64 x86_64 GNU/Linux\n",
      "innocent\n",
      "root://eoscms.cern.ch///store/relval/CMSSW_9_3_0_pre3/RelValSingleMuPt100/GEN-SIM-RECO/92X_upgrade2017_realistic_v10_resub-v1/00000/3C1A3236-AE7C-E711-ACA8-0025905A60FE.root\n",
      "root://eoscms.cern.ch///store/relval/CMSSW_9_3_0_pre3/RelValSingleMuPt100/GEN-SIM-RECO/92X_upgrade2017_realistic_v10_resub-v1/00000/3C1A3236-AE7C-E711-ACA8-0025905A60FE.root (1 runs, 60 lumis, 6000 events, 1208929930 bytes)\n"
     ]
    }
   ],
   "source": [
    "%%bash\n",
    "uname -a\n",
    "whoami\n",
    "\n",
    "edmFileUtil root://eoscms.cern.ch///store/relval/CMSSW_9_3_0_pre3/RelValSingleMuPt100/GEN-SIM-RECO/92X_upgrade2017_realistic_v10_resub-v1/00000/3C1A3236-AE7C-E711-ACA8-0025905A60FE.root\n",
    "\n"
   ]
  },
  {
   "cell_type": "code",
   "execution_count": 3,
   "metadata": {
    "collapsed": true
   },
   "outputs": [],
   "source": [
    "import numpy as np\n",
    "import matplotlib.pyplot as plt\n",
    "%matplotlib inline\n",
    "import math\n",
    "import time"
   ]
  },
  {
   "cell_type": "code",
   "execution_count": 4,
   "metadata": {
    "collapsed": false
   },
   "outputs": [
    {
     "data": {
      "application/javascript": [
       "IPython.OutputArea.prototype._should_scroll = function(lines) {\n",
       "    return false;\n",
       "}"
      ],
      "text/plain": [
       "<IPython.core.display.Javascript object>"
      ]
     },
     "metadata": {},
     "output_type": "display_data"
    }
   ],
   "source": [
    "%%javascript\n",
    "IPython.OutputArea.prototype._should_scroll = function(lines) {\n",
    "    return false;\n",
    "}"
   ]
  },
  {
   "cell_type": "code",
   "execution_count": 5,
   "metadata": {
    "collapsed": false
   },
   "outputs": [
    {
     "name": "stdout",
     "output_type": "stream",
     "text": [
      "Welcome to JupyROOT 6.10/01\n"
     ]
    }
   ],
   "source": [
    "from DataFormats.FWLite import Handle, Events"
   ]
  },
  {
   "cell_type": "code",
   "execution_count": 6,
   "metadata": {
    "collapsed": false
   },
   "outputs": [],
   "source": [
    "singleMU100 = \"root://eoscms.cern.ch///store/relval/CMSSW_9_3_0_pre3/RelValSingleMuPt100/GEN-SIM-RECO/92X_upgrade2017_realistic_v10_resub-v1/00000/3C1A3236-AE7C-E711-ACA8-0025905A60FE.root\"\n",
    "\n",
    "label = \"generalTracks\"\n",
    "quality = \"highPurity\""
   ]
  },
  {
   "cell_type": "code",
   "execution_count": 7,
   "metadata": {
    "collapsed": true
   },
   "outputs": [],
   "source": [
    "def nt(fevents) :\n",
    "    events = Events(fevents)\n",
    "    tracks = Handle(\"std::vector<reco::Track>\")\n",
    "    nt = []\n",
    "    for i in range(0,1000) : # events.size()):\n",
    "      a= events.to(i)\n",
    "      if (i%500==0) : print \"Event\", i \n",
    "      a=events.getByLabel(label, tracks)\n",
    "      nt.append(tracks.product().size())\n",
    "    print len(nt)\n",
    "    return nt"
   ]
  },
  {
   "cell_type": "code",
   "execution_count": 8,
   "metadata": {
    "collapsed": false
   },
   "outputs": [
    {
     "name": "stdout",
     "output_type": "stream",
     "text": [
      "Event 0\n",
      "Event 500\n",
      "1000\n"
     ]
    },
    {
     "data": {
      "image/png": "[encoded data removed]",
      "text/plain": [
       "<matplotlib.figure.Figure at 0x7f80ac1fcf50>"
      ]
     },
     "metadata": {},
     "output_type": "display_data"
    },
    {
     "name": "stderr",
     "output_type": "stream",
     "text": [
      "Warning in <TClass::Init>: no dictionary for class edm::Wrapper<edm::DetSetVector<CTPPSPixelCluster> > is available\n",
      "Warning in <TClass::Init>: no dictionary for class edm::DetSetVector<CTPPSPixelCluster> is available\n"
     ]
    }
   ],
   "source": [
    "nt = nt(singleMU100)\n",
    "fig, ax = plt.subplots()\n",
    "ax.hist(nt,histtype='step', fill=False)\n",
    "ax.set_title('Number of tracks in event')\n",
    "ax.set_xlabel('#tracks')\n",
    "ax.set_ylabel('#events')\n",
    "plt.yscale('log', nonposy='clip')\n",
    "plt.show()"
   ]
  },
  {
   "cell_type": "code",
   "execution_count": 9,
   "metadata": {
    "collapsed": false
   },
   "outputs": [
    {
     "data": {
      "image/png": "[encoded data removed]",
      "text/plain": [
       "<matplotlib.figure.Figure at 0x7f8081ddb490>"
      ]
     },
     "metadata": {},
     "output_type": "display_data"
    }
   ],
   "source": [
    "y,x = np.histogram(nt,np.linspace(0.,3000.,300))\n",
    "x.resize(len(y))\n",
    "plt.step(x,y,where='post',label='N tracks')\n",
    "plt.grid(True)\n",
    "plt.legend(loc='upper right')\n",
    "plt.show()"
   ]
  },
  {
   "cell_type": "code",
   "execution_count": 10,
   "metadata": {
    "collapsed": false
   },
   "outputs": [],
   "source": [
    "# testBit() returns a nonzero result, 2**offset, if the bit at 'offset' is one.\n",
    "def testBit(int_type, offset):\n",
    "    mask = 1 << offset\n",
    "    return(int_type & mask)\n",
    "\n",
    "def onlyBit(int_type, offset):\n",
    "    mask = 1 << offset\n",
    "    return(int_type ^ mask)"
   ]
  },
  {
   "cell_type": "code",
   "execution_count": 11,
   "metadata": {
    "collapsed": true
   },
   "outputs": [],
   "source": [
    "def hpa(pattern) :\n",
    "    pxp = 0\n",
    "    mul = 1\n",
    "    for i in range(1,5) :\n",
    "        if pattern.hasValidHitInPixelLayer(1,i) : pxp+=mul\n",
    "        mul *=10\n",
    "    for i in range(1,4) :\n",
    "        if pattern.hasValidHitInPixelLayer(2,i) : pxp+=mul\n",
    "        mul *=10\n",
    "    return pxp, 10*pattern.numberOfValidTIBLayersWithMonoAndStereo(0)+pattern.numberOfValidTIDLayersWithMonoAndStereo(0)"
   ]
  },
  {
   "cell_type": "code",
   "execution_count": 12,
   "metadata": {
    "collapsed": false
   },
   "outputs": [],
   "source": [
    "def loadTk(fevents) :\n",
    "    print fevents\n",
    "    events = Events(fevents)\n",
    "    print events.size()\n",
    "    tracks = Handle(\"std::vector<reco::Track>\")\n",
    "    evidsA = []\n",
    "    tkParsA = []\n",
    "    tkHitsA = []\n",
    "    for i in range(0,events.size()) :\n",
    "      if (len(tkParsA) > 1000000) : break\n",
    "      a= events.to(i)\n",
    "      id = events.object().id()\n",
    "      evid = '{:d}:{:d}:{:d}'.format(int(id.run()),int(id.luminosityBlock()), int(id.event()))\n",
    "      if (i%500==0) : \n",
    "        print \"Event\", i , evid, len(tkParsA)\n",
    "      a=events.getByLabel(label, tracks)\n",
    "      for tk in tracks.product() :\n",
    "        # if (not tk.quality(tk.qualityByName(quality))) : continue\n",
    "        pattern = tk.hitPattern()\n",
    "        p,t = hpa(pattern)\n",
    "        evidsA.append(evid)\n",
    "        tkParsA.append([tk.eta(),tk.phi(),tk.pt(),tk.dz(),tk.ndof(),tk.chi2()])\n",
    "        tkHitsA.append([pattern.numberOfValidHits(),pattern.numberOfValidPixelHits(),tk.originalAlgo()-4,tk.algoMaskUL(),\n",
    "                       p,t])\n",
    "\n",
    "    print len(tkParsA)\n",
    "    tkPars = np.array(zip(*tkParsA), dtype=np.float)\n",
    "    print len(tkPars)\n",
    "    tkHits = np.array(zip(*tkHitsA), dtype=np.int)\n",
    "    print len(tkHits)\n",
    "    evids = np.array(evidsA,dtype=np.str)\n",
    "    return (evids,tkPars,tkHits)"
   ]
  },
  {
   "cell_type": "code",
   "execution_count": 13,
   "metadata": {
    "collapsed": true
   },
   "outputs": [],
   "source": [
    "def loadFile() :\n",
    "    loaded = np.load('/tmp/singleMuon100.npz')\n",
    "    return loaded['evids'],loaded['tkPars'], loaded['tkHits']"
   ]
  },
  {
   "cell_type": "code",
   "execution_count": 14,
   "metadata": {
    "collapsed": false
   },
   "outputs": [
    {
     "name": "stdout",
     "output_type": "stream",
     "text": [
      "root://eoscms.cern.ch///store/relval/CMSSW_9_3_0_pre3/RelValSingleMuPt100/GEN-SIM-RECO/92X_upgrade2017_realistic_v10_resub-v1/00000/3C1A3236-AE7C-E711-ACA8-0025905A60FE.root\n",
      "6000\n",
      "Event 0 1:1:2 0\n",
      "Event 500 1:3:205 998\n",
      "Event 1000 1:11:1004 1999\n",
      "Event 1500 1:18:1707 2995\n",
      "Event 2000 1:20:1902 3993\n",
      "Event 2500 1:49:4803 4992\n",
      "Event 3000 1:61:6006 5991\n",
      "Event 3500 1:68:6703 6991\n",
      "Event 4000 1:71:7007 7989\n",
      "Event 4500 1:77:7603 8990\n",
      "Event 5000 1:84:8303 9993\n",
      "Event 5500 1:83:8202 10993\n",
      "11995\n",
      "6\n",
      "6\n"
     ]
    }
   ],
   "source": [
    "fromAOD = True\n",
    "evids, tkPars, tkHits = loadTk(singleMU100) if fromAOD else loadFile()"
   ]
  },
  {
   "cell_type": "code",
   "execution_count": 15,
   "metadata": {
    "collapsed": false
   },
   "outputs": [],
   "source": [
    "if fromAOD :\n",
    "    np.savez_compressed('/tmp/singleMU100',evids=evids, tkPars=tkPars, tkHits=tkHits)"
   ]
  },
  {
   "cell_type": "code",
   "execution_count": 16,
   "metadata": {
    "collapsed": false
   },
   "outputs": [
    {
     "name": "stdout",
     "output_type": "stream",
     "text": [
      "-rw-r--r--. 1 innocent zh 480603 Sep 10 12:04 /tmp/singleMU100.npz\n"
     ]
    }
   ],
   "source": [
    "%%bash\n",
    "ls -l /tmp/singleMU100*"
   ]
  },
  {
   "cell_type": "code",
   "execution_count": 17,
   "metadata": {
    "collapsed": false
   },
   "outputs": [],
   "source": [
    "def nhit(var,tkPars, tkHits) :\n",
    "    hp = np.greater(tkPars[2],4.)\n",
    "    notQ = np.equal(tkHits[2],18)|np.equal(tkHits[2],1)|np.equal(tkHits[2],2)|np.equal(tkHits[2],3)\n",
    "    quad = np.equal(tkHits[2],0)|np.equal(tkHits[2],19)|np.equal(tkHits[2],20)\n",
    "    mu = np.not_equal(testBit(tkHits[3],4+9),0)\n",
    "    nbins=62\n",
    "    yn,x = np.histogram(tkPars[var],np.linspace(-3.1,3.1,nbins),weights=1.*tkHits[0]*hp)\n",
    "    ya,x = np.histogram(tkPars[var],np.linspace(-3.1,3.1,nbins),weights=1.*hp)\n",
    "    x.resize(len(ya))\n",
    "    return x,yn/ya,ya\n",
    "    "
   ]
  },
  {
   "cell_type": "code",
   "execution_count": 18,
   "metadata": {
    "collapsed": false
   },
   "outputs": [],
   "source": [
    "def printMu(evids, tkPars, tkHits) :\n",
    "    mu = np.equal(tkHits[2],10)\n",
    "#    mu = np.not_equal(testBit(tkHits[3],4+10),0)\n",
    "    for i in range(0,len(mu)) :\n",
    "        if (mu[i]) : \n",
    "            print \"'{:s}-{:s}',\".format(evids[i],evids[i])\n",
    "            #print evids[i],tkPars[0][i],tkPars[1][i],tkPars[2][i],tkPars[3][i],\\\n",
    "            #tkHits[0][i],tkHits[1][i],tkHits[4][i],tkHits[5][i]"
   ]
  },
  {
   "cell_type": "code",
   "execution_count": 19,
   "metadata": {
    "collapsed": false
   },
   "outputs": [
    {
     "name": "stdout",
     "output_type": "stream",
     "text": [
      "'1:8:735-1:8:735',\n",
      "'1:10:912-1:10:912',\n",
      "'1:2:129-1:2:129',\n",
      "'1:2:147-1:2:147',\n",
      "'1:5:485-1:5:485',\n",
      "'1:11:1007-1:11:1007',\n",
      "'1:12:1146-1:12:1146',\n",
      "'1:22:2163-1:22:2163',\n",
      "'1:21:2012-1:21:2012',\n",
      "'1:21:2090-1:21:2090',\n",
      "'1:29:2859-1:29:2859',\n",
      "'1:29:2862-1:29:2862',\n",
      "'1:29:2879-1:29:2879',\n",
      "'1:71:7015-1:71:7015',\n",
      "'1:72:7192-1:72:7192',\n",
      "'1:73:7210-1:73:7210',\n",
      "'1:74:7340-1:74:7340',\n",
      "'1:77:7674-1:77:7674',\n",
      "'1:78:7797-1:78:7797',\n",
      "'1:86:8536-1:86:8536',\n",
      "'1:86:8543-1:86:8543',\n",
      "'1:82:8174-1:82:8174',\n",
      "18.0 12 2"
     ]
    },
    {
     "name": "stderr",
     "output_type": "stream",
     "text": [
      "/cvmfs/cms.cern.ch/slc7_amd64_gcc630/external/py2-pippkgs/5.0-ghjeda2/lib/python2.7/site-packages/ipykernel_launcher.py:10: RuntimeWarning: invalid value encountered in divide\n",
      "  # Remove the CWD from sys.path while we load stuff.\n"
     ]
    },
    {
     "data": {
      "image/png": "[encoded data removed]",
      "text/plain": [
       "<matplotlib.figure.Figure at 0x7f8081c48350>"
      ]
     },
     "metadata": {},
     "output_type": "display_data"
    },
    {
     "name": "stdout",
     "output_type": "stream",
     "text": [
      "\n"
     ]
    }
   ],
   "source": [
    "printMu(evids,tkPars, tkHits)\n",
    "\n",
    "print tkPars[4][0],tkHits[0][0],tkHits[1][0],\n",
    "eta=0\n",
    "phi=1\n",
    "pt=2\n",
    "\n",
    "var = eta\n",
    "x,y,ya = nhit(eta,tkPars, tkHits)\n",
    "\n",
    "plt.step(x,y,where='post',label='run xyz, lumi??')\n",
    "plt.grid(True)\n",
    "plt.legend(bbox_to_anchor=(1.05, 1), loc=2, borderaxespad=0.)\n",
    "plt.xlim(-3.1, 3.1)\n",
    "plt.xlabel('eta')\n",
    "plt.ylabel('<Nhits>')\n",
    "plt.show()"
   ]
  }
 ],
 "metadata": {
  "kernelspec": {
   "display_name": "Python 2",
   "language": "python",
   "name": "python2"
  },
  "language_info": {
   "codemirror_mode": {
    "name": "ipython",
    "version": 2
   },
   "file_extension": ".py",
   "mimetype": "text/x-python",
   "name": "python",
   "nbconvert_exporter": "python",
   "pygments_lexer": "ipython2",
   "version": "2.7.11"
  }
 },
 "nbformat": 4,
 "nbformat_minor": 2
}
