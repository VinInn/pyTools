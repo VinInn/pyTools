{
 "cells": [
  {
   "cell_type": "code",
   "execution_count": 77,
   "metadata": {
    "collapsed": false
   },
   "outputs": [],
   "source": [
    "import math\n",
    "from math import asin"
   ]
  },
  {
   "cell_type": "code",
   "execution_count": 78,
   "metadata": {
    "collapsed": false
   },
   "outputs": [],
   "source": [
    "def c(pt) :\n",
    "    return 1/(1650*pt)  # 165 cm/GeV = 1/(2T * 0.3)\n",
    "\n",
    "def exact(a,d,ch) :\n",
    "    b = a+d\n",
    "    return asin(ch*b)-asin(ch*a)\n",
    "\n",
    "#  asin(x) = x-x^3/6\n",
    "def asin1(x) :\n",
    "    return x*(1.+x*x/6)\n",
    "def approx0(a,d,ch) :\n",
    "    return ch*(d)\n",
    "def approx1(a,d,ch) :\n",
    "    b = a+d\n",
    "    return asin1(ch*b)-asin1(ch*a)\n",
    "def approx(a,d,ch) :\n",
    "    cd = ch*d\n",
    "    ca = ch*a\n",
    "    return cd*(1.+0.5*ca*(ca+cd)+cd*cd*0.167)"
   ]
  },
  {
   "cell_type": "code",
   "execution_count": 79,
   "metadata": {
    "collapsed": false
   },
   "outputs": [
    {
     "name": "stdout",
     "output_type": "stream",
     "text": [
      "0.050918278843 0.0505050505051 0.0509130003569 0.050913043299\n"
     ]
    }
   ],
   "source": [
    "ch = c(0.3)/2\n",
    "r1=100\n",
    "dr = 150-r1\n",
    "print exact(r1,dr,ch),approx0(r1,dr,ch),approx1(r1,dr,ch),approx(r1,dr,ch)"
   ]
  }
 ],
 "metadata": {
  "kernelspec": {
   "display_name": "Python 2",
   "language": "python",
   "name": "python2"
  },
  "language_info": {
   "codemirror_mode": {
    "name": "ipython",
    "version": 2
   },
   "file_extension": ".py",
   "mimetype": "text/x-python",
   "name": "python",
   "nbconvert_exporter": "python",
   "pygments_lexer": "ipython2",
   "version": "2.7.9"
  }
 },
 "nbformat": 4,
 "nbformat_minor": 1
}
