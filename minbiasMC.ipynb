{
 "cells": [
  {
   "cell_type": "code",
   "execution_count": 1,
   "metadata": {},
   "outputs": [
    {
     "data": {
      "application/javascript": [
       "IPython.OutputArea.prototype._should_scroll = function(lines) {\n",
       "    return false;\n",
       "}"
      ],
      "text/plain": [
       "<IPython.core.display.Javascript object>"
      ]
     },
     "metadata": {},
     "output_type": "display_data"
    }
   ],
   "source": [
    "%%javascript\n",
    "IPython.OutputArea.prototype._should_scroll = function(lines) {\n",
    "    return false;\n",
    "}"
   ]
  },
  {
   "cell_type": "code",
   "execution_count": 2,
   "metadata": {},
   "outputs": [
    {
     "name": "stdout",
     "output_type": "stream",
     "text": [
      "Linux lxplus056.cern.ch 3.10.0-693.5.2.el7.x86_64 #1 SMP Fri Oct 20 20:32:50 UTC 2017 x86_64 x86_64 x86_64 GNU/Linux\n",
      "innocent\n",
      "/cvmfs/cms.cern.ch/slc7_amd64_gcc630/cms/cmssw/CMSSW_9_4_0/bin/slc7_amd64_gcc630/cmsRun\n"
     ]
    }
   ],
   "source": [
    "%%bash\n",
    "uname -a\n",
    "whoami\n",
    "\n",
    "which cmsRun"
   ]
  },
  {
   "cell_type": "code",
   "execution_count": 3,
   "metadata": {},
   "outputs": [
    {
     "name": "stdout",
     "output_type": "stream",
     "text": [
      "Welcome to JupyROOT 6.10/09\n"
     ]
    }
   ],
   "source": [
    "import numpy as np\n",
    "import matplotlib.pyplot as plt\n",
    "%matplotlib inline\n",
    "import math\n",
    "import time\n",
    "from multiprocessing import Pool\n",
    "from DataFormats.FWLite import Handle, Events\n",
    "from FWLiteUtils import *"
   ]
  },
  {
   "cell_type": "code",
   "execution_count": 4,
   "metadata": {
    "collapsed": true
   },
   "outputs": [],
   "source": [
    "def loadTracks(tracks, weight, tkParsA) :\n",
    "    for tk in tracks.product() :\n",
    "        if not tk.trackHighPurity() : continue\n",
    "        if (tk.pt()<0.7) : continue\n",
    "        # if (abs(tk.dz(pvp))>0.5) : continue # only PV tracks\n",
    "        tkParsA.append([tk.eta(),tk.phi(),tk.pt(), weight])\n"
   ]
  },
  {
   "cell_type": "code",
   "execution_count": 5,
   "metadata": {},
   "outputs": [],
   "source": [
    "def loop(args) :\n",
    "    tkParsA = []\n",
    "    ne = 0\n",
    "    files = args[0]\n",
    "    l = args[1]\n",
    "    for f in files :\n",
    "        print f\n",
    "        events = Events(f)\n",
    "        ls = eventsInLumiRange(f, events,l[0],l[1])\n",
    "        if not ls : continue\n",
    "        mini = Mini()\n",
    "        a= events.to(ls[0][0])\n",
    "        mini.set(events)\n",
    "        rid = runid(events,mini.pu()) \n",
    "        zbi = mini.zbIndex(events)\n",
    "        print \"ZB indeces: \", zbi\n",
    "        names = events.object().triggerNames(mini.triggerBits[0].product())\n",
    "        for i in xrange(mini.triggerBits[0].product().size()):\n",
    "            if mini.triggerBits[0].product().accept(i) :print \"Trigger \", i, names.triggerName(i)\n",
    "        for l in ls : \n",
    "         for i in range(l[0],l[1]) :\n",
    "          a= events.to(i)\n",
    "          mini.set(events)\n",
    "          ok = False\n",
    "          for t in zbi : \n",
    "            if (mini.triggerBits[0].product().accept(t)) :\n",
    "                ok = True\n",
    "                break\n",
    "          if (i%5000==0) : \n",
    "            evid = runid(events,mini.pu())\n",
    "            print \"Event\", i , evid\n",
    "          if not ok : continue\n",
    "          weight = 1./mini.pu() if mini.pu()>0 else 1\n",
    "          ne+=1\n",
    "          loadTracks(mini.cand[0], weight, tkParsA)\n",
    "          loadTracks(mini.ltk[0], weight, tkParsA)\n",
    "      \n",
    "    print len(tkParsA)\n",
    "    tkPars = np.array(zip(*tkParsA), dtype=np.float)\n",
    "    print len(tkPars)\n",
    "    print 'done'\n",
    "    return (rid,ne,tkPars)"
   ]
  },
  {
   "cell_type": "code",
   "execution_count": 6,
   "metadata": {
    "collapsed": true
   },
   "outputs": [],
   "source": [
    "def loadFile(name) :\n",
    "    loaded = np.load('/tmp/'+name+'.npz')\n",
    "    runid = loaded['arr_0']\n",
    "    ne = loaded['arr_1']\n",
    "    n = len(runid)\n",
    "    tkPars = [loaded['arr_'+str(i+2)] for i in range(0,n)]\n",
    "    return runid,ne,tkPars\n",
    "def saveFile(name,runid,ne,tkPars) :\n",
    "    np.savez_compressed('/tmp/'+name,runid,ne,*tkPars)"
   ]
  },
  {
   "cell_type": "code",
   "execution_count": 8,
   "metadata": {},
   "outputs": [
    {
     "name": "stdout",
     "output_type": "stream",
     "text": [
      "root://eoscms.cern.ch///store/relval/CMSSW_9_4_0_pre3/RelValNuGun/MINIAODSIM/PU25ns_94X_mc2017_realistic_PixFailScenario_Run306432_HS_AVE50-v1/20000/3244C02D-E6DA-E711-AACE-4C79BA1812A7.root\n",
      "root://eoscms.cern.ch///store/relval/CMSSW_9_4_0_pre3/RelValMinBias_13/MINIAODSIM/94X_mc2017_realistic_PixFailScenario_Run306432-v1/20000/1CEA23D7-36D9-E711-B69A-0025905A60CE.root \n",
      "root://eoscms.cern.ch///store/relval/CMSSW_9_4_0_pre3/RelValNuGun/MINIAODSIM/PU25ns_94X_mc2017_realistic_PixFailScenario_Run306432_HS_AVE35-v1/20000/7474D56B-A8DA-E711-B0A2-0242AC130002.root\n",
      "ZB indeces:  [439, 440, 441, 442, 443, 444, 445, 446, 447]\n",
      "Trigger  0 digitisation_step\n",
      "Trigger  1 L1simulation_step\n",
      "Trigger  2 digi2raw_step\n",
      "Trigger  106 HLT_DiPFJet15_NoCaloMatched_v12\n",
      "Trigger  128 HLT_AK8PFJet40_v12\n",
      "Trigger  160 HLT_AK8PFJetFwd40_v11\n",
      "Trigger  428 HLT_Physics_v7\n",
      "Trigger  429 HLT_Physics_part0_v7\n",
      "Trigger  430 HLT_Physics_part1_v7\n",
      "Trigger  431 HLT_Physics_part2_v7\n",
      "Trigger  432 HLT_Physics_part3_v7\n",
      "Trigger  433 HLT_Physics_part4_v7\n",
      "Trigger  434 HLT_Physics_part5_v7\n",
      "Trigger  435 HLT_Physics_part6_v7\n",
      "Trigger  436 HLT_Physics_part7_v7\n",
      "Trigger  437 DST_Physics_v7\n",
      "Trigger  438 HLT_Random_v3\n",
      "Trigger  439 HLT_ZeroBias_v6\n",
      "Trigger  440 HLT_ZeroBias_part0_v6\n",
      "Trigger  441 HLT_ZeroBias_part1_v6\n",
      "Trigger  442 HLT_ZeroBias_part2_v6\n",
      "Trigger  443 HLT_ZeroBias_part3_v6\n",
      "Trigger  444 HLT_ZeroBias_part4_v6\n",
      "Trigger  445 HLT_ZeroBias_part5_v6\n",
      "Trigger  446 HLT_ZeroBias_part6_v6\n",
      "Trigger  447 HLT_ZeroBias_part7_v6\n",
      "Trigger  448 DST_ZeroBias_v2\n",
      "Trigger  454 DST_ZeroBias_CaloScouting_PFScouting_v10\n",
      "Trigger  487 HLT_EcalCalibration_v4\n",
      "Trigger  488 HLT_HcalCalibration_v5\n",
      "Trigger  489 AlCa_EcalPhiSym_v8\n",
      "Trigger  493 HLT_L1MinimumBiasHF_OR_v2\n",
      "Trigger  494 HLT_L1MinimumBiasHF0OR_v3\n",
      "Trigger  496 HLT_HcalNZS_v12\n",
      "Trigger  497 HLT_HcalPhiSym_v14\n",
      "Trigger  507 AlCa_LumiPixels_Random_v4\n",
      "Trigger  508 AlCa_LumiPixels_ZeroBias_v8\n",
      "Trigger  509 MC_ReducedIterativeTracking_v9\n",
      "Trigger  510 MC_PFMET_v13\n",
      "Trigger  513 MC_PFHT_v12\n",
      "Trigger  514 MC_PFMHT_v12\n",
      "Trigger  515 MC_CaloMET_v8\n",
      "Trigger  516 MC_CaloMET_JetIdCleaned_v8\n",
      "Trigger  517 MC_AK4CaloJets_v8\n",
      "Trigger  520 MC_CaloHT_v7\n",
      "Trigger  521 MC_CaloMHT_v7\n",
      "Trigger  523 MC_AK8TrimPFJets_v13\n",
      "Trigger  524 MC_AK8PFHT_v12\n",
      "Trigger  525 MC_AK8CaloHT_v7\n",
      "Event 0 1:12:3.50e+01\n",
      "ZB indeces:  [439, 440, 441, 442, 443, 444, 445, 446, 447]\n",
      "Trigger  0 digitisation_step\n",
      "Trigger  1 L1simulation_step\n",
      "Trigger  2 digi2raw_step\n",
      "Trigger  428 HLT_Physics_v7\n",
      "Trigger  429 HLT_Physics_part0_v7\n",
      "Trigger  430 HLT_Physics_part1_v7\n",
      "Trigger  431 HLT_Physics_part2_v7\n",
      "Trigger  432 HLT_Physics_part3_v7\n",
      "Trigger  433 HLT_Physics_part4_v7\n",
      "Trigger  434 HLT_Physics_part5_v7\n",
      "Trigger  435 HLT_Physics_part6_v7\n",
      "Trigger  436 HLT_Physics_part7_v7\n",
      "Trigger  437 DST_Physics_v7\n",
      "Trigger  438 HLT_Random_v3\n",
      "Trigger  439 HLT_ZeroBias_v6\n",
      "Trigger  440 HLT_ZeroBias_part0_v6\n",
      "Trigger  441 HLT_ZeroBias_part1_v6\n",
      "Trigger  442 HLT_ZeroBias_part2_v6\n",
      "Trigger  443 HLT_ZeroBias_part3_v6\n",
      "Trigger  444 HLT_ZeroBias_part4_v6\n",
      "Trigger  445 HLT_ZeroBias_part5_v6\n",
      "Trigger  446 HLT_ZeroBias_part6_v6\n",
      "Trigger  447 HLT_ZeroBias_part7_v6\n",
      "Trigger  448 DST_ZeroBias_v2\n",
      "Trigger  454 DST_ZeroBias_CaloScouting_PFScouting_v10\n",
      "Trigger  487 HLT_EcalCalibration_v4\n",
      "Trigger  488 HLT_HcalCalibration_v5\n",
      "Trigger  489 AlCa_EcalPhiSym_v8\n",
      "Trigger  493 HLT_L1MinimumBiasHF_OR_v2\n",
      "Trigger  494 HLT_L1MinimumBiasHF0OR_v3\n",
      "Trigger  496 HLT_HcalNZS_v12\n",
      "Trigger  507 AlCa_LumiPixels_Random_v4\n",
      "Trigger  508 AlCa_LumiPixels_ZeroBias_v8\n",
      "Trigger  509 MC_ReducedIterativeTracking_v9\n",
      "Trigger  510 MC_PFMET_v13\n",
      "Trigger  514 MC_PFMHT_v12\n",
      "Trigger  515 MC_CaloMET_v8\n",
      "Trigger  516 MC_CaloMET_JetIdCleaned_v8\n",
      "Trigger  521 MC_CaloMHT_v7\n",
      "Trigger  525 MC_AK8CaloHT_v7\n",
      "Event 0 1:14:0.00e+00\n",
      "ZB indeces:  [439, 440, 441, 442, 443, 444, 445, 446, 447]\n",
      "Trigger  0 digitisation_step\n",
      "Trigger  1 L1simulation_step\n",
      "Trigger  2 digi2raw_step\n",
      "Trigger  428 HLT_Physics_v7\n",
      "Trigger  429 HLT_Physics_part0_v7\n",
      "Trigger  430 HLT_Physics_part1_v7\n",
      "Trigger  431 HLT_Physics_part2_v7\n",
      "Trigger  432 HLT_Physics_part3_v7\n",
      "Trigger  433 HLT_Physics_part4_v7\n",
      "Trigger  434 HLT_Physics_part5_v7\n",
      "Trigger  435 HLT_Physics_part6_v7\n",
      "Trigger  436 HLT_Physics_part7_v7\n",
      "Trigger  437 DST_Physics_v7\n",
      "Trigger  438 HLT_Random_v3\n",
      "Trigger  439 HLT_ZeroBias_v6\n",
      "Trigger  440 HLT_ZeroBias_part0_v6\n",
      "Trigger  441 HLT_ZeroBias_part1_v6\n",
      "Trigger  442 HLT_ZeroBias_part2_v6\n",
      "Trigger  443 HLT_ZeroBias_part3_v6\n",
      "Trigger  444 HLT_ZeroBias_part4_v6\n",
      "Trigger  445 HLT_ZeroBias_part5_v6\n",
      "Trigger  446 HLT_ZeroBias_part6_v6\n",
      "Trigger  447 HLT_ZeroBias_part7_v6\n",
      "Trigger  448 DST_ZeroBias_v2\n",
      "Trigger  454 DST_ZeroBias_CaloScouting_PFScouting_v10\n",
      "Trigger  487 HLT_EcalCalibration_v4\n",
      "Trigger  488 HLT_HcalCalibration_v5\n",
      "Trigger  489 AlCa_EcalPhiSym_v8\n",
      "Trigger  493 HLT_L1MinimumBiasHF_OR_v2\n",
      "Trigger  494 HLT_L1MinimumBiasHF0OR_v3\n",
      "Trigger  496 HLT_HcalNZS_v12\n",
      "Trigger  507 AlCa_LumiPixels_Random_v4\n",
      "Trigger  508 AlCa_LumiPixels_ZeroBias_v8\n",
      "Trigger  509 MC_ReducedIterativeTracking_v9\n",
      "Trigger  510 MC_PFMET_v13\n",
      "Trigger  514 MC_PFMHT_v12\n",
      "Trigger  515 MC_CaloMET_v8\n",
      "Trigger  516 MC_CaloMET_JetIdCleaned_v8\n",
      "Trigger  517 MC_AK4CaloJets_v8\n",
      "Trigger  518 MC_AK4CaloJetsFromPV_v6\n",
      "Trigger  520 MC_CaloHT_v7\n",
      "Trigger  521 MC_CaloMHT_v7\n",
      "Trigger  523 MC_AK8TrimPFJets_v13\n",
      "Trigger  524 MC_AK8PFHT_v12\n",
      "Trigger  525 MC_AK8CaloHT_v7\n",
      "Event 0 1:16:5.00e+01\n",
      "Event 5000 1:48:0.00e+00\n",
      "Event 10000 1:109:0.00e+00\n",
      "Event 15000 1:180:0.00e+00\n",
      "Event 20000 1:318:0.00e+00\n",
      "Event 25000 1:388:0.00e+00\n",
      "Event 30000 1:505:0.00e+00\n",
      "Event 5000 1:37:3.50e+01\n",
      "Event 35000 1:703:0.00e+00\n",
      "Event 40000 1:975:0.00e+00\n",
      "root://eoscms.cern.ch///store/relval/CMSSW_9_4_0_pre3/RelValMinBias_13/MINIAODSIM/94X_mc2017_realistic_PixFailScenario_Run306432-v1/20000/922B1BD8-36D9-E711-A518-0CC47A4C8E2E.root\n",
      "336931\n",
      "4\n",
      "done\n",
      "Event 10000 1:62:3.50e+01\n",
      "Event 5000 1:206:5.00e+01\n",
      "Event 15000 1:87:3.50e+01\n",
      "Event 10000 1:367:5.00e+01\n",
      "Event 20000 1:112:3.50e+01\n",
      "Event 25000 1:137:3.50e+01\n",
      "Event 15000 1:432:5.00e+01\n",
      "Event 30000 1:164:3.50e+01\n",
      "Event 20000 1:486:5.00e+01\n",
      "Event 35000 1:194:3.50e+01\n",
      "root://eoscms.cern.ch///store/relval/CMSSW_9_4_0_pre3/RelValNuGun/MINIAODSIM/PU25ns_94X_mc2017_realistic_PixFailScenario_Run306432_HS_AVE50-v1/20000/5AA980EB-A3DA-E711-AD4D-E0071B7A08F0.root\n",
      "root://eoscms.cern.ch///store/relval/CMSSW_9_4_0_pre3/RelValNuGun/MINIAODSIM/PU25ns_94X_mc2017_realistic_PixFailScenario_Run306432_HS_AVE50-v1/20000/A277321F-9EDA-E711-B8D6-5065F3818281.root\n",
      "8403529\n",
      "4\n",
      "done\n",
      "Event 40000 1:220:3.50e+01\n",
      "Event 45000 1:269:3.50e+01\n",
      "Event 50000 1:337:3.50e+01\n",
      "root://eoscms.cern.ch///store/relval/CMSSW_9_4_0_pre3/RelValNuGun/MINIAODSIM/PU25ns_94X_mc2017_realistic_PixFailScenario_Run306432_HS_AVE35-v1/20000/847AA2F0-B3DA-E711-91DF-0242AC130002.root\n",
      "root://eoscms.cern.ch///store/relval/CMSSW_9_4_0_pre3/RelValNuGun/MINIAODSIM/PU25ns_94X_mc2017_realistic_PixFailScenario_Run306432_HS_AVE35-v1/20000/E26F8904-B1DA-E711-A851-0242AC130002.root\n",
      "13765876\n",
      "4\n",
      "done\n"
     ]
    }
   ],
   "source": [
    "AOD = True\n",
    "MC = True\n",
    "\n",
    "f1 = fullFileName(tier2+'/store/relval/CMSSW_9_4_0_pre3/RelValMinBias_13/MINIAODSIM/94X_mc2017_realistic_PixFailScenario_Run306432-v1/20000/', \\\n",
    "['1CEA23D7-36D9-E711-B69A-0025905A60CE.root ', '922B1BD8-36D9-E711-A518-0CC47A4C8E2E.root']\n",
    "                 )\n",
    "\n",
    "f2 = fullFileName(tier2 + '/store/relval/CMSSW_9_4_0_pre3/RelValNuGun/MINIAODSIM/PU25ns_94X_mc2017_realistic_PixFailScenario_Run306432_HS_AVE35-v1/20000/', \\\n",
    "['7474D56B-A8DA-E711-B0A2-0242AC130002.root','847AA2F0-B3DA-E711-91DF-0242AC130002.root','E26F8904-B1DA-E711-A851-0242AC130002.root']\n",
    "                 )\n",
    "f3 = fullFileName(tier2 + '/store/relval/CMSSW_9_4_0_pre3/RelValNuGun/MINIAODSIM/PU25ns_94X_mc2017_realistic_PixFailScenario_Run306432_HS_AVE50-v1/20000/', \\\n",
    "['3244C02D-E6DA-E711-AACE-4C79BA1812A7.root','5AA980EB-A3DA-E711-AD4D-E0071B7A08F0.root','A277321F-9EDA-E711-B8D6-5065F3818281.root']\n",
    "                 )\n",
    "\n",
    "lall = (0,10000)\n",
    "\n",
    "if (AOD) :\n",
    "    p = Pool(6)\n",
    "    ret = p.map(loop,[(f1,lall),(f2,lall),(f3,lall)])\n",
    "\n",
    "    \n",
    "#ne,tkPars = zip(*ret)"
   ]
  },
  {
   "cell_type": "code",
   "execution_count": 9,
   "metadata": {},
   "outputs": [],
   "source": [
    "if (AOD) : p.terminate()"
   ]
  },
  {
   "cell_type": "code",
   "execution_count": 10,
   "metadata": {},
   "outputs": [
    {
     "name": "stdout",
     "output_type": "stream",
     "text": [
      "3\n"
     ]
    }
   ],
   "source": [
    "if (AOD) : \n",
    "   rid,ne,tkPars = zip(*ret)\n",
    "else :\n",
    "      rid,ne,tkPars = loadFile('minBiasMC')\n",
    "print len(rid)\n",
    "if (AOD) : saveFile('minBiasMC',rid,ne,tkPars)"
   ]
  },
  {
   "cell_type": "code",
   "execution_count": 11,
   "metadata": {},
   "outputs": [],
   "source": [
    "def onePlot(rid,ne,tkPars) :\n",
    "    eta=0\n",
    "    phi=1\n",
    "    pt=2\n",
    "    w=3\n",
    "    lmx = 100./np.amin(tkPars[w])\n",
    "    lmi = 100./np.amax(tkPars[w])\n",
    "    lab = rid+'  {:d}:{:.2e}->{:.2e}'.format(ne,lmi,lmx)\n",
    "    ya,x = np.histogram(tkPars[eta],np.linspace(-3.1,3.1,62),weights=10./float(ne)*tkPars[w])\n",
    "    x.resize(len(ya))\n",
    "    plt.step(x,ya,where='post',label=lab)\n",
    "    return ya,x,lab\n",
    "def plots(rid,ne,tkPars) :\n",
    "    eta=0\n",
    "    phi=1\n",
    "    pt=2\n",
    "    w=3\n",
    "    yx = map(onePlot,rid,ne,tkPars)\n",
    "    yy,xx,lab = zip(*yx)\n",
    "    plt.grid(True)\n",
    "    plt.legend(bbox_to_anchor=(1.05, 1), loc=2, borderaxespad=0.)\n",
    "    plt.xlim(-3.1,3.1)\n",
    "    plt.xlabel('eta')\n",
    "    plt.ylabel('dn/deta')\n",
    "    plt.show()\n",
    "\n",
    "    k=0\n",
    "    for y in yy :\n",
    "        plt.step(xx[0],y/yy[0],where='post',label=lab[k])\n",
    "        k+=1\n",
    "    plt.grid(True)\n",
    "    plt.legend(bbox_to_anchor=(1.05, 1), loc=2, borderaxespad=0.)\n",
    "    plt.xlim(-3.1,3.1)\n",
    "    plt.xlabel('eta')\n",
    "    plt.ylabel('eff')\n",
    "    plt.show()\n"
   ]
  },
  {
   "cell_type": "code",
   "execution_count": 12,
   "metadata": {},
   "outputs": [
    {
     "data": {
      "image/png": "[encoded data removed]",
      "text/plain": [
       "<matplotlib.figure.Figure at 0x7f7acd874a10>"
      ]
     },
     "metadata": {},
     "output_type": "display_data"
    },
    {
     "data": {
      "image/png": "[encoded data removed]",
      "text/plain": [
       "<matplotlib.figure.Figure at 0x7f7aa0fde510>"
      ]
     },
     "metadata": {},
     "output_type": "display_data"
    }
   ],
   "source": [
    "plots(rid,ne,tkPars)"
   ]
  },
  {
   "cell_type": "code",
   "execution_count": 14,
   "metadata": {},
   "outputs": [
    {
     "name": "stderr",
     "output_type": "stream",
     "text": [
      "/cvmfs/cms.cern.ch/slc7_amd64_gcc630/external/py2-pippkgs/6.0-fmblme/lib/python2.7/site-packages/ipykernel_launcher.py:10: RuntimeWarning: divide by zero encountered in divide\n",
      "  # Remove the CWD from sys.path while we load stuff.\n",
      "/cvmfs/cms.cern.ch/slc7_amd64_gcc630/external/py2-pippkgs/6.0-fmblme/lib/python2.7/site-packages/ipykernel_launcher.py:10: RuntimeWarning: invalid value encountered in divide\n",
      "  # Remove the CWD from sys.path while we load stuff.\n"
     ]
    },
    {
     "name": "stdout",
     "output_type": "stream",
     "text": [
      "nan\n"
     ]
    },
    {
     "data": {
      "image/png": "[encoded data removed]",
      "text/plain": [
       "<matplotlib.figure.Figure at 0x7f7a9e0fb650>"
      ]
     },
     "metadata": {},
     "output_type": "display_data"
    },
    {
     "name": "stdout",
     "output_type": "stream",
     "text": [
      "nan\n"
     ]
    },
    {
     "data": {
      "image/png": "[encoded data removed]",
      "text/plain": [
       "<matplotlib.figure.Figure at 0x7f7a9c575a50>"
      ]
     },
     "metadata": {},
     "output_type": "display_data"
    }
   ],
   "source": [
    "def plot2D(tk1,ne1,tk2,ne2):\n",
    "    eta=0\n",
    "    phi=1\n",
    "    pt=2\n",
    "    w=3\n",
    "    nbins = 31\n",
    "    edges = np.linspace(-3.1,3.1,nbins)\n",
    "    z1,x,y = np.histogram2d(tk1[eta],tk1[phi],bins=(edges, edges),weights=10./float(ne1)*tk1[w])\n",
    "    z2,x,y = np.histogram2d(tk2[eta],tk2[phi],bins=(edges, edges),weights=10./float(ne2)*tk2[w])\n",
    "    z=z2.T/z1.T\n",
    "    print np.amax(z)\n",
    "    z = np.fmin(z,1.)\n",
    "    plt.imshow(z, interpolation='nearest', origin='low', extent=[edges[0], edges[-1], edges[0], edges[-1]])\n",
    "    plt.colorbar()\n",
    "    plt.show()\n",
    "\n",
    "plot2D(tkPars[1],ne[1],tkPars[0],ne[0])\n",
    "plot2D(tkPars[2],ne[2],tkPars[0],ne[0])"
   ]
  }
 ],
 "metadata": {
  "kernelspec": {
   "display_name": "Python 2",
   "language": "python",
   "name": "python2"
  },
  "language_info": {
   "codemirror_mode": {
    "name": "ipython",
    "version": 2
   },
   "file_extension": ".py",
   "mimetype": "text/x-python",
   "name": "python",
   "nbconvert_exporter": "python",
   "pygments_lexer": "ipython2",
   "version": "2.7.9"
  }
 },
 "nbformat": 4,
 "nbformat_minor": 2
}
