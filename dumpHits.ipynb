{
 "cells": [
  {
   "cell_type": "code",
   "execution_count": 238,
   "metadata": {
    "collapsed": false
   },
   "outputs": [
    {
     "data": {
      "application/javascript": [
       "IPython.OutputArea.prototype._should_scroll = function(lines) {\n",
       "    return false;\n",
       "}"
      ],
      "text/plain": [
       "<IPython.core.display.Javascript object>"
      ]
     },
     "metadata": {},
     "output_type": "display_data"
    }
   ],
   "source": [
    "%%javascript\n",
    "IPython.OutputArea.prototype._should_scroll = function(lines) {\n",
    "    return false;\n",
    "}"
   ]
  },
  {
   "cell_type": "code",
   "execution_count": 239,
   "metadata": {
    "collapsed": false
   },
   "outputs": [
    {
     "name": "stdout",
     "output_type": "stream",
     "text": [
      "The line_profiler extension is already loaded. To reload it, use:\n",
      "  %reload_ext line_profiler\n"
     ]
    }
   ],
   "source": [
    "import matplotlib\n",
    "import matplotlib.pyplot as plt\n",
    "import glob\n",
    "import math\n",
    "import numpy as np\n",
    "import pandas as pd\n",
    "import numba\n",
    "%load_ext line_profiler"
   ]
  },
  {
   "cell_type": "code",
   "execution_count": 240,
   "metadata": {
    "collapsed": true
   },
   "outputs": [],
   "source": [
    "import trackml\n",
    "from trackml.dataset import load_event, load_dataset"
   ]
  },
  {
   "cell_type": "code",
   "execution_count": 241,
   "metadata": {
    "collapsed": false
   },
   "outputs": [],
   "source": [
    "# @numba.vectorize\n",
    "def haveSimilarCurvature(x1,y1,x2,y2,x3,y3, ptmin, region_origin_radius, phiCut, hardPtCut) :\n",
    "    region_origin_x = 0\n",
    "    region_origin_y = 0\n",
    "\n",
    "    distance_13_squared = (x1 - x3)*(x1 - x3) + (y1 - y3)*(y1 - y3)\n",
    "    tan_12_13_half_mul_distance_13_squared = abs(y1 * (x2 - x3) + y2 * (x3 - x1) + y3 * (x1 - x2))\n",
    "    # high pt : just straight\n",
    "    straight = tan_12_13_half_mul_distance_13_squared * ptmin <= 1.0e-4*distance_13_squared\n",
    "    def ifStraight() :\n",
    "        distance_3_beamspot_squared = (x3-region_origin_x) * (x3-region_origin_x) + (y3-region_origin_y) * (y3-region_origin_y)\n",
    "        dot_bs3_13 = ((x1 - x3)*( region_origin_x - x3) + (y1 - y3) * (region_origin_y-y3))\n",
    "        proj_bs3_on_13_squared = dot_bs3_13*dot_bs3_13/distance_13_squared\n",
    "        distance_13_beamspot_squared  = distance_3_beamspot_squared -  proj_bs3_on_13_squared\n",
    "        return distance_13_beamspot_squared < (region_origin_radius+phiCut)*(region_origin_radius+phiCut)\n",
    "    \n",
    "    def standard() :\n",
    "        # 87 cm/GeV = 1/(3.8T * 0.3)\n",
    "        # 165 cm/GeV = 1/(2T * 0.3)\n",
    "    \n",
    "        # take less than radius given by the hardPtCut and reject everything below\n",
    "        minRadius = hardPtCut*1650 #  // FIXME move out and use real MagField\n",
    "    \n",
    "        det = (x1 - x2) * (y2 - y3) - (x2 - x3) * (y1 - y2)\n",
    "    \n",
    "        offset = x2*x2 + y2*y2\n",
    "    \n",
    "        bc = (x1*x1 + y1*y1 - offset)*0.5\n",
    "    \n",
    "        cd = (offset - x3*x3 - y3*y3)*0.5\n",
    "    \n",
    "    \n",
    "    \n",
    "        idet = 1./ det;\n",
    "    \n",
    "        x_center = (bc * (y2 - y3) - cd * (y1 - y2)) * idet\n",
    "        y_center = (cd * (x1 - x2) - bc * (x2 - x3)) * idet\n",
    "    \n",
    "        radius = np.sqrt((x2 - x_center)*(x2 - x_center) + (y2 - y_center)*(y2 - y_center))\n",
    "    \n",
    "        def domore() :\n",
    "            centers_distance_squared = (x_center - region_origin_x)*(x_center - region_origin_x) + (y_center - region_origin_y)*(y_center - region_origin_y)\n",
    "            region_origin_radius_plus_tolerance = region_origin_radius + phiCut\n",
    "            minimumOfIntersectionRange = (radius - region_origin_radius_plus_tolerance)*(radius - region_origin_radius_plus_tolerance)\n",
    "            ok = centers_distance_squared >= minimumOfIntersectionRange\n",
    "            return ok & (centers_distance_squared <= (radius + region_origin_radius_plus_tolerance)*(radius + region_origin_radius_plus_tolerance))\n",
    "\n",
    "\n",
    "        return (radius > minRadius) & domore()\n",
    "    \n",
    "    return np.where(straight,ifStraight(),standard())\n",
    "    # return standard()"
   ]
  },
  {
   "cell_type": "code",
   "execution_count": 242,
   "metadata": {
    "collapsed": false
   },
   "outputs": [
    {
     "name": "stdout",
     "output_type": "stream",
     "text": [
      "0.0404625262934 0.0436314721719 0.0571633024328\n"
     ]
    }
   ],
   "source": [
    "curvcut = 0.5/(1650*0.3) # 1/(1650*pt)\n",
    "rl1 = 32\n",
    "rl2 = 72\n",
    "rl3 = 115\n",
    "rl4 = 171\n",
    "def deltaphi(a,b,ch=curvcut) :\n",
    "    d = b-a\n",
    "    cd = ch*d\n",
    "    ca = ch*a\n",
    "    return cd*(1.+0.5*ca*(ca+cd)+cd*cd*0.1667)\n",
    "\n",
    "dp12 = deltaphi(rl1,rl2)\n",
    "dp23 = deltaphi(rl2,rl3)\n",
    "dp34 = deltaphi(rl3,rl4)\n",
    "print dp12,dp23,dp34\n",
    "mpcor = 0.01"
   ]
  },
  {
   "cell_type": "code",
   "execution_count": 243,
   "metadata": {
    "collapsed": false
   },
   "outputs": [],
   "source": [
    "@numba.vectorize(nopython=True)\n",
    "def areAlignedRZ(ri, zi, r1, z1, ro, zo, ptmin, thetaCut) :\n",
    "    radius_diff = abs(r1 - ro)\n",
    "    distance_13_squared = radius_diff*radius_diff + (z1 - zo)*(z1 - zo)\n",
    "    \n",
    "    pMin = ptmin*np.sqrt(distance_13_squared) #this needs to be divided by radius_diff later\n",
    "    \n",
    "    tan_12_13_half_mul_distance_13_squared = abs(z1 * (ri - ro) + zi * (ro - r1) + zo * (r1 - ri)) \n",
    "    return tan_12_13_half_mul_distance_13_squared * pMin <= thetaCut * distance_13_squared * radius_diff"
   ]
  },
  {
   "cell_type": "code",
   "execution_count": 244,
   "metadata": {
    "collapsed": true
   },
   "outputs": [],
   "source": [
    "def doublets(hits,l1,l2,cut=0.1) :\n",
    "    nd=0\n",
    "    for h1 in l1.itertuples() :\n",
    "        phi = h1.phi\n",
    "        hh = l2['phi'].searchsorted([phi-cut,phi+cut])\n",
    "        hits.loc[h1.Index,'up0'] = hh[0]\n",
    "        hits.loc[h1.Index,'up1'] = hh[1]\n",
    "        nd += hh[1]-hh[0]\n",
    "    return nd"
   ]
  },
  {
   "cell_type": "code",
   "execution_count": 245,
   "metadata": {
    "collapsed": false
   },
   "outputs": [
    {
     "name": "stdout",
     "output_type": "stream",
     "text": [
      "1000 120939\n",
      "8892 7484 6672 6124\n",
      "d12 2105965\n",
      "d23 1588630\n",
      "d34 911255\n",
      "hl1 5408 4084\n",
      "t123 2259964 5670 0 0 good 99 24 0 0 0\n",
      "1001 93680\n",
      "6737 5673 4987 4544\n",
      "d12 1204007\n",
      "d23 897960\n",
      "d34 503383\n",
      "hl1 3868 2912\n",
      "t123 1240666 3034 0 0 good 97 43 0 0 0\n",
      " done 3\n"
     ]
    }
   ],
   "source": [
    "#file = '/Users/innocent/data/trackML_minitrain.zip'\n",
    "#file = '/Users/innocent/data/train_100_events'\n",
    "# maxEv = 2\n",
    "\n",
    "\n",
    "def runit(file = '/Users/innocent/data/trackML_minitrain.zip', maxEv=2):\n",
    "  evn=0  \n",
    "  for event_id, hits, cells, particles, truth in load_dataset(file):\n",
    "    evn+=1\n",
    "    if (evn>maxEv) : break\n",
    "    print event_id, len(hits)\n",
    "    hits = pd.merge(hits,truth,on='hit_id')\n",
    "    hits['phi'] = np.arctan2(hits['y'],hits['x'])\n",
    "    hits['r'] = np.sqrt(hits['y']*hits['y']+hits['x']*hits['x'])\n",
    "    hits['tpt'] = np.sqrt(hits['tpx']*hits['tpx']+hits['tpy']*hits['tpy'])\n",
    "    hits['up0'] =0\n",
    "    hits['up1'] =0\n",
    "    hits.sort_values(by=['phi'],inplace=True)\n",
    "    hl1 = hits.query('volume_id ==8 & layer_id==2')\n",
    "    hl2 = hits.query('volume_id ==8 & layer_id==4')\n",
    "    hl3 = hits.query('volume_id ==8 & layer_id==6')\n",
    "    hl4 = hits.query('volume_id ==8 & layer_id==8')\n",
    "    print len(hl1), len(hl2), len(hl3), len(hl4)\n",
    "    #print hl1\n",
    "    # print hl2\n",
    "    #print hits.loc[lambda h: h.volume_id ==8 & h.layer_id==2]\n",
    "    #print hits[hits['volume_id']==8 & hits['layer_id']==2]\n",
    "    nd = doublets(hits,hl1,hl2) #,dp12)\n",
    "    hl1 = hits.query('volume_id ==8 & layer_id==2 & z<100 & z>-100')  # just those who can reach BPIX4\n",
    "    print 'd12', nd # len(d12)\n",
    "    nd = doublets(hits,hl2,hl3) #,dp23)\n",
    "    hl2 = hits.query('volume_id ==8 & layer_id==4')\n",
    "    print 'd23',nd # len(d12)\n",
    "    nd = doublets(hits,hl3,hl4,0.07) #,dp34)\n",
    "    hl3 = hits.query('volume_id ==8 & layer_id==6')\n",
    "    print 'd34',nd # len(d12)\n",
    "    \n",
    "    CAThetaCut = 0.004 # 0.0010\n",
    "    CAPhiCut = 0.175\n",
    "    ptMin = 0.6 # algo tuned for 4T so need to scale up x2\n",
    "    hardPtCut = 0.2\n",
    "    region_origin_radius = 2.0\n",
    "    ng=0\n",
    "    ng2=0\n",
    "    ng3=0\n",
    "    nd=0\n",
    "    nd2=0\n",
    "    nd3=0\n",
    "    na=0\n",
    "    nok=0\n",
    "    i1 =0\n",
    "    nr=0\n",
    "    hh1 = np.array([0,0],dtype=int)\n",
    "    hh2 = np.array([0,0],dtype=int)\n",
    "    hh3 = np.array([0,0],dtype=int)\n",
    "    print 'hl1', len(hl1),len(hl1[hl1['tpt']>0.3])\n",
    "    for h1 in hl1.iloc[1500:1600].itertuples() :\n",
    "        ok=False\n",
    "        i1+=1\n",
    "        p1 = h1.particle_id\n",
    "        if p1>10 & (h1.tpt>0.3) :\n",
    "            nr+=1\n",
    "#        print 'p1 ', p1\n",
    "        hh1[0] = h1.up0\n",
    "        hh1[1] = h1.up1\n",
    "        xi = h1.x\n",
    "        yi = h1.y\n",
    "        ri = h1.r\n",
    "        zi = h1.z\n",
    "        szh2 = hl2.iloc[hh1[0]:hh1[1]].loc[lambda df : abs(zi-df['z'])<300]\n",
    "#        if len(szh2)>0 : continue  # to time till here\n",
    "        # print 'szh2', len(szh2)\n",
    "        for h2 in szh2.itertuples() :\n",
    "            hh2[0] = h2.up0\n",
    "            hh2[1] = h2.up1\n",
    "            szh3 = hl3.iloc[hh2[0]:hh2[1]].loc[lambda df : abs(h2.z-df['z'])<200]\n",
    "            na += len(szh3)\n",
    "            sh3 = szh3.loc[lambda df : areAlignedRZ(ri,zi,h2.r,h2.z,df['r'].values,df['z'].values,ptMin,CAThetaCut)]\n",
    "            nd += len(sh3)\n",
    "            sh33 = sh3.loc[lambda df : haveSimilarCurvature(xi,yi,h2.x,h2.y,df['x'].values,df['y'].values, ptMin, region_origin_radius, CAPhiCut, hardPtCut)]\n",
    "            if len(sh33)>0 : continue   # to time till here\n",
    "            nd2 += len(sh33)\n",
    "            p2 = h2.particle_id\n",
    "            if (p1==p2) : ng2+=1\n",
    "            if (len(sh33)>0) & (p1==p2) :\n",
    "                for p3 in sh33['particle_id'] :\n",
    "                    if p3==p1 : ng3+=1\n",
    "            for h3 in sh33.itertuples() :\n",
    "                hh3[0] = h3.up0\n",
    "                hh3[1] = h3.up1\n",
    "                # hh3 = np.array([h3['up0'],h3['up1']],dtype=int)\n",
    "                sh44 = hl4.iloc[hh3[0]:hh3[1]].loc[lambda df : abs(h3.z-df['z'])<200]\\\n",
    "                .loc[lambda df : areAlignedRZ(h2.r,h2.z,h3.r,h3.z,df['r'].values,df['z'].values,ptMin,CAThetaCut)]\\\n",
    "                .loc[lambda df : haveSimilarCurvature(h2.x,h2.y,h3.x,h3.y,df['x'].values,df['y'].values, ptMin, region_origin_radius, CAPhiCut, hardPtCut)]\n",
    "                nd3 += len(sh44)\n",
    "                p3 = h3.particle_id\n",
    "                if (len(sh44)>0) & (p1==p2) & (p1==p3):\n",
    "                    for p4 in sh44['particle_id'] :\n",
    "                        if p4==p1 : \n",
    "                            ng+=1\n",
    "                            ok=True\n",
    "        if ok: nok+=1\n",
    "        #print i1, 't123', na, nd, nd2, nd3, nr, ng2, ng3, ng,nok # len(d12)\n",
    "    print 't123', na, nd, nd2, nd3, 'good', nr, ng2, ng3,ng,nok # len(d12)\n",
    "  return evn\n",
    "\n",
    "%prun -l 40 evn = runit()    \n",
    "print 'done', evn"
   ]
  },
  {
   "cell_type": "code",
   "execution_count": null,
   "metadata": {
    "collapsed": true
   },
   "outputs": [],
   "source": []
  }
 ],
 "metadata": {
  "kernelspec": {
   "display_name": "Python 2",
   "language": "python",
   "name": "python2"
  },
  "language_info": {
   "codemirror_mode": {
    "name": "ipython",
    "version": 2
   },
   "file_extension": ".py",
   "mimetype": "text/x-python",
   "name": "python",
   "nbconvert_exporter": "python",
   "pygments_lexer": "ipython2",
   "version": "2.7.9"
  }
 },
 "nbformat": 4,
 "nbformat_minor": 1
}
