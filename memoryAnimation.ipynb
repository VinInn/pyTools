{
 "cells": [
  {
   "cell_type": "code",
   "execution_count": 137,
   "id": "35f8e94b",
   "metadata": {},
   "outputs": [
    {
     "data": {
      "application/javascript": [
       "IPython.OutputArea.prototype._should_scroll = function(lines) {\n",
       "    return false;\n",
       "}\n"
      ],
      "text/plain": [
       "<IPython.core.display.Javascript object>"
      ]
     },
     "metadata": {},
     "output_type": "display_data"
    }
   ],
   "source": [
    "%%javascript\n",
    "IPython.OutputArea.prototype._should_scroll = function(lines) {\n",
    "    return false;\n",
    "}"
   ]
  },
  {
   "cell_type": "code",
   "execution_count": 138,
   "id": "300950fd",
   "metadata": {},
   "outputs": [],
   "source": [
    "import os\n",
    "import re\n",
    "import matplotlib\n",
    "import matplotlib.pyplot as plt\n",
    "import matplotlib.animation as animation\n",
    "import glob\n",
    "import math\n",
    "import numpy as np\n",
    "import pandas as pd\n",
    "from bisect import *\n",
    "from decimal import Decimal"
   ]
  },
  {
   "cell_type": "code",
   "execution_count": 139,
   "id": "38fbb93f",
   "metadata": {},
   "outputs": [
    {
     "name": "stdout",
     "output_type": "stream",
     "text": [
      "188406486.0\n",
      "20\n",
      "[0.00000e+00 2.16600e+03 1.00000e+00 2.00000e+01 2.03000e+02 6.78130e+04\n",
      " 6.13750e+04 3.10380e+04 1.80270e+04 3.03030e+04 1.58077e+05 3.67250e+04\n",
      " 1.11290e+04 8.50000e+03 8.24100e+03 3.17000e+02 1.39000e+03 4.88000e+02\n",
      " 9.62000e+02 3.00000e+01 6.00000e+00 1.00000e+00 1.00000e+00 0.00000e+00\n",
      " 0.00000e+00 0.00000e+00 0.00000e+00 0.00000e+00 0.00000e+00 0.00000e+00\n",
      " 0.00000e+00 0.00000e+00 0.00000e+00 0.00000e+00 0.00000e+00 0.00000e+00\n",
      " 0.00000e+00 0.00000e+00 0.00000e+00 0.00000e+00 0.00000e+00 0.00000e+00\n",
      " 0.00000e+00 0.00000e+00 0.00000e+00 0.00000e+00 0.00000e+00 0.00000e+00\n",
      " 0.00000e+00 0.00000e+00 0.00000e+00 0.00000e+00 0.00000e+00 0.00000e+00\n",
      " 0.00000e+00 0.00000e+00 0.00000e+00 0.00000e+00 0.00000e+00 0.00000e+00\n",
      " 0.00000e+00 0.00000e+00 0.00000e+00 0.00000e+00 0.00000e+00]\n"
     ]
    }
   ],
   "source": [
    "# Fixing bin edges\n",
    "HIST_BINS = np.linspace(0, 32, 32)\n",
    "\n",
    "#files\n",
    "totf = '/Users/innocent/MallocProfiler/demos/memtotHist.csv'\n",
    "livef = '/Users/innocent/MallocProfiler/demos/memliveHist.csv'\n",
    "\n",
    "tot = np.genfromtxt(totf, delimiter=\",\",filling_values=0)\n",
    "live = np.genfromtxt(livef, delimiter=\",\",filling_values=0)\n",
    "print(tot.max())\n",
    "print(tot.shape[0])\n",
    "print(tot[0])\n"
   ]
  },
  {
   "cell_type": "code",
   "execution_count": 140,
   "id": "e8cef2dd",
   "metadata": {},
   "outputs": [],
   "source": [
    "def prepare_animation(bar_container,hist):\n",
    "\n",
    "    def animate(frame_number):\n",
    "        # read data in\n",
    "        #print(frame_number)\n",
    "        data = hist[frame_number][:32]\n",
    "        for count, rect in zip(data, bar_container.patches):\n",
    "            rect.set_height(count)\n",
    "        return bar_container.patches\n",
    "    return animate"
   ]
  },
  {
   "cell_type": "code",
   "execution_count": 141,
   "id": "dc48bfad",
   "metadata": {},
   "outputs": [],
   "source": [
    "def plot(hist,file,col) :\n",
    "  # Output generated via `matplotlib.animation.Animation.to_jshtml`.\n",
    "\n",
    "  # dummy just to start out\n",
    "  data = np.array([0,0])\n",
    "  fig, ax = plt.subplots()\n",
    "  _, _, bar_container = ax.hist(data, HIST_BINS, lw=1,\n",
    "                              ec=\"yellow\", fc=col, alpha=0.5)\n",
    "  ax.set_ylim(top=1.1*hist.max())  # set safe limit to ensure that all data is visible.\n",
    "\n",
    "  ani = animation.FuncAnimation(fig, prepare_animation(bar_container,hist), tot.shape[0],\n",
    "                              repeat=False, blit=True)\n",
    "  ani.save(filename=file, writer=\"html\")\n",
    "  plt.show()"
   ]
  },
  {
   "cell_type": "code",
   "execution_count": 142,
   "id": "8a00f786",
   "metadata": {},
   "outputs": [
    {
     "data": {
      "image/png": "[encoded data removed]",
      "text/plain": [
       "<Figure size 432x288 with 1 Axes>"
      ]
     },
     "metadata": {
      "needs_background": "light"
     },
     "output_type": "display_data"
    },
    {
     "data": {
      "image/png": "[encoded data removed]",
      "text/plain": [
       "<Figure size 432x288 with 1 Axes>"
      ]
     },
     "metadata": {
      "needs_background": "light"
     },
     "output_type": "display_data"
    }
   ],
   "source": [
    "plot(tot,'/tmp/memtot.html',\"green\")\n",
    "plot(live,'/tmp/memlive.html',\"red\")"
   ]
  }
 ],
 "metadata": {
  "kernelspec": {
   "display_name": "Python 3 (ipykernel)",
   "language": "python",
   "name": "python3"
  },
  "language_info": {
   "codemirror_mode": {
    "name": "ipython",
    "version": 3
   },
   "file_extension": ".py",
   "mimetype": "text/x-python",
   "name": "python",
   "nbconvert_exporter": "python",
   "pygments_lexer": "ipython3",
   "version": "3.7.3"
  }
 },
 "nbformat": 4,
 "nbformat_minor": 5
}
