{
 "cells": [
  {
   "cell_type": "code",
   "execution_count": 1,
   "metadata": {
    "collapsed": false
   },
   "outputs": [
    {
     "data": {
      "application/javascript": [
       "IPython.OutputArea.prototype._should_scroll = function(lines) {\n",
       "    return false;\n",
       "}"
      ],
      "text/plain": [
       "<IPython.core.display.Javascript object>"
      ]
     },
     "metadata": {},
     "output_type": "display_data"
    }
   ],
   "source": [
    "%%javascript\n",
    "IPython.OutputArea.prototype._should_scroll = function(lines) {\n",
    "    return false;\n",
    "}"
   ]
  },
  {
   "cell_type": "code",
   "execution_count": 2,
   "metadata": {
    "collapsed": false
   },
   "outputs": [
    {
     "name": "stdout",
     "output_type": "stream",
     "text": [
      "Linux vinavx3.cern.ch 3.10.0-693.2.2.el7.x86_64 #1 SMP Tue Sep 12 22:26:13 UTC 2017 x86_64 x86_64 x86_64 GNU/Linux\n",
      "innocent\n",
      "/cvmfs/cms.cern.ch/slc7_amd64_gcc630/cms/cmssw/CMSSW_9_4_0/bin/slc7_amd64_gcc630/cmsRun\n"
     ]
    }
   ],
   "source": [
    "%%bash\n",
    "uname -a\n",
    "whoami\n",
    "\n",
    "which cmsRun"
   ]
  },
  {
   "cell_type": "code",
   "execution_count": 3,
   "metadata": {
    "collapsed": false
   },
   "outputs": [
    {
     "name": "stdout",
     "output_type": "stream",
     "text": [
      "Welcome to JupyROOT 6.10/09\n"
     ]
    }
   ],
   "source": [
    "import numpy as np\n",
    "import matplotlib.pyplot as plt\n",
    "%matplotlib inline\n",
    "import math\n",
    "import time\n",
    "from multiprocessing import Pool\n",
    "from DataFormats.FWLite import Handle, Events\n",
    "from FWLiteUtils import *"
   ]
  },
  {
   "cell_type": "code",
   "execution_count": 4,
   "metadata": {
    "collapsed": true
   },
   "outputs": [],
   "source": [
    "def loadTracks(tracks, weight, tkParsA) :\n",
    "    for tk in tracks.product() :\n",
    "        if not tk.trackHighPurity() : continue\n",
    "        if (tk.pt()<0.7) : continue\n",
    "        # if (abs(tk.dz(pvp))>0.5) : continue # only PV tracks\n",
    "        tkParsA.append([tk.eta(),tk.phi(),tk.pt(), weight])\n"
   ]
  },
  {
   "cell_type": "code",
   "execution_count": 5,
   "metadata": {
    "collapsed": false
   },
   "outputs": [],
   "source": [
    "def loop(args) :\n",
    "    tkParsA = []\n",
    "    ne = 0\n",
    "    files = args[0]\n",
    "    l = args[1]\n",
    "    for f in files :\n",
    "        print f\n",
    "        events = Events(f)\n",
    "        ls = eventsInLumiRange(events,l[0],l[1])\n",
    "        if ls[0] eq ls[1] : continue\n",
    "        mini = Mini()\n",
    "        a= events.to(ls[0])\n",
    "        mini.set(events)\n",
    "        zbi = mini.zbIndex(events)\n",
    "        print \"ZB indeces: \", zbi\n",
    "        names = events.object().triggerNames(mini.triggerBits[0].product())\n",
    "        for i in xrange(mini.triggerBits[0].product().size()):\n",
    "            if mini.triggerBits[0].product().accept(i) :print \"Trigger \", i, names.triggerName(i)\n",
    "        rid = runid(events,mini.lumi[0]) \n",
    "        for i in range(ls[0],ls[1]) :\n",
    "          a= events.to(i)\n",
    "          mini.set(events)\n",
    "          ok = False\n",
    "          for t in zbi : \n",
    "            if (mini.triggerBits[0].product().accept(t)) :\n",
    "                ok = True\n",
    "                break\n",
    "          if (i%5000==0) : \n",
    "            evid = runid(events,mini.lumi[0])\n",
    "            print \"Event\", i , evid\n",
    "          if not ok : continue\n",
    "          weight = 100./mini.ilumi()\n",
    "          ne+=1\n",
    "          loadTracks(mini.cand[0], weight, tkParsA)\n",
    "          loadTracks(mini.ltk[0], weight, tkParsA)\n",
    "      \n",
    "    print len(tkParsA)\n",
    "    tkPars = np.array(zip(*tkParsA), dtype=np.float)\n",
    "    print len(tkPars)\n",
    "    print 'done'\n",
    "    return (rid,ne,tkPars)"
   ]
  },
  {
   "cell_type": "code",
   "execution_count": 6,
   "metadata": {
    "collapsed": false
   },
   "outputs": [
    {
     "name": "stdout",
     "output_type": "stream",
     "text": [
      "ZB indeces:  [440, 441, 442, 443, 444, 445, 446, 447, 448]\n",
      "Trigger  502 HLT_ZeroBias_FirstCollisionAfterAbortGap_v5\n",
      "Event 0 306135:94:1.50e+04\n",
      "ZB indeces:  [447, 448, 449, 450, 451, 452, 453, 454, 455]\n",
      "Trigger  451 HLT_ZeroBias_part3_v6\n",
      "Trigger  456 DST_ZeroBias_v2\n",
      "Trigger  497 AlCa_EcalPhiSym_v8\n",
      "ZB indeces:  [447, 448, 449, 450, 451, 452, 453, 454, 455]\n",
      "Trigger  451 HLT_ZeroBias_part3_v6\n",
      "Trigger  456 DST_ZeroBias_v2\n",
      "ZB indeces:  [447, 448, 449, 450, 451, 452, 453, 454, 455]\n",
      "Trigger  451 HLT_ZeroBias_part3_v6\n",
      "Trigger  456 DST_ZeroBias_v2\n",
      "Trigger  497 AlCa_EcalPhiSym_v8\n",
      "Event 0 306432:175:1.79e+03\n",
      "Event 5000 306135:109:1.47e+04\n",
      "Event 5000 306432:175:1.80e+03\n",
      "Event 10000 306432:178:1.82e+03\n",
      "Event 10000 306135:134:1.49e+04\n",
      "Event 15000 306432:178:1.79e+03\n",
      "Event 20000 306432:179:1.79e+03\n",
      "Event 25000 306432:179:1.74e+03\n",
      "Event 15000 306135:136:1.50e+04\n",
      "Event 30000 306432:181:1.76e+03\n",
      "Event 365000 306432:300:3.15e+02\n",
      "ZB indeces:  [447, 448, 449, 450, 451, 452, 453, 454, 455]\n",
      "Trigger  451 HLT_ZeroBias_part3_v6\n",
      "Trigger  456 DST_ZeroBias_v2\n",
      "Trigger  497 AlCa_EcalPhiSym_v8\n",
      "Event 0 306432:174:1.78e+03\n",
      "Event 5000 306432:174:1.77e+03\n",
      "Event 20000 306135:215:1.47e+04\n",
      "Event 10000 306432:176:1.82e+03\n",
      "Event 370000 306432:300:3.41e+02\n",
      "Event 15000 306432:176:1.80e+03\n",
      "Event 20000 306432:177:1.80e+03\n",
      "Event 25000 306135:219:1.48e+04\n",
      "Event 25000 306432:177:1.82e+03\n",
      "Event 30000 306432:180:1.79e+03\n",
      "Event 30000 306135:257:1.50e+04\n",
      "Event 35000 306432:182:1.83e+03\n",
      "Event 40000 306432:182:1.81e+03\n",
      "Event 45000 306432:183:1.84e+03\n",
      "Event 35000 306135:266:1.48e+04\n",
      "Event 50000 306432:183:1.83e+03\n",
      "Event 375000 306432:302:2.60e+02\n",
      "Event 55000 306432:184:1.86e+03\n",
      "Event 40000 306135:352:1.50e+04\n",
      "Event 60000 306432:184:1.84e+03\n",
      "Event 65000 306432:185:1.84e+03\n",
      "Event 380000 306432:303:2.39e+02\n",
      "Event 70000 306432:186:1.71e+03\n",
      "Event 45000 306135:370:1.48e+04\n",
      "Event 75000 306432:186:1.86e+03\n",
      "5863334\n",
      "4\n",
      "done\n",
      "Event 50000 306135:424:1.48e+04\n",
      "Event 385000 306432:303:2.39e+02\n",
      "Event 55000 306135:492:1.33e+04\n",
      "Event 60000 306135:516:1.44e+04\n",
      "Event 390000 306432:306:1.95e+02\n",
      "Event 65000 306135:645:1.40e+04\n",
      "Event 70000 306135:680:1.36e+04\n",
      "Event 395000 306432:306:1.98e+02\n",
      "Event 75000 306135:712:1.33e+04\n",
      "Event 80000 306135:754:1.30e+04\n",
      "Event 85000 306135:854:1.22e+04\n",
      "Event 400000 306432:307:1.98e+02\n",
      "Event 90000 306135:876:1.20e+04\n",
      "Event 405000 306432:307:1.97e+02\n",
      "Event 95000 306135:905:1.18e+04\n",
      "Event 100000 306135:915:1.17e+04\n",
      "Event 105000 306135:927:1.16e+04\n",
      "Event 110000 306135:958:1.18e+04\n",
      "Event 410000 306432:312:2.01e+02\n",
      "Event 115000 306135:991:1.15e+04\n",
      "Event 415000 306432:316:1.99e+02\n",
      "18877621\n",
      "4\n",
      "done\n",
      "Event 420000 306432:316:2.01e+02\n",
      "Event 425000 306432:317:2.01e+02\n",
      "Event 430000 306432:317:1.99e+02\n",
      "Event 435000 306432:319:1.66e+02\n",
      "Event 440000 306432:319:1.65e+02\n",
      "Event 445000 306432:320:1.37e+02\n",
      "Event 450000 306432:323:1.01e+02\n",
      "Event 455000 306432:323:1.01e+02\n",
      "Event 460000 306432:324:1.01e+02\n",
      "Event 465000 306432:324:1.01e+02\n",
      "Event 470000 306432:325:1.01e+02\n",
      "Event 475000 306432:325:1.02e+02\n",
      "Event 480000 306432:326:1.02e+02\n",
      "Event 485000 306432:328:1.03e+02\n",
      "Event 490000 306432:328:1.01e+02\n",
      "ZB indeces:  [447, 448, 449, 450, 451, 452, 453, 454, 455]\n",
      "Trigger  451 HLT_ZeroBias_part3_v6\n",
      "Trigger  456 DST_ZeroBias_v2\n",
      "Event 490000 306432:301:3.20e+02\n",
      "Event 495000 306432:301:2.87e+02\n",
      "Event 500000 306432:304:1.98e+02\n",
      "Event 505000 306432:304:1.97e+02\n",
      "Event 510000 306432:305:1.96e+02\n",
      "Event 515000 306432:310:2.01e+02\n",
      "Event 520000 306432:310:2.00e+02\n",
      "Event 525000 306432:311:2.01e+02\n",
      "Event 530000 306432:311:1.99e+02\n",
      "Event 535000 306432:315:2.01e+02\n",
      "Event 540000 306432:315:2.02e+02\n",
      "Event 545000 306432:321:1.37e+02\n",
      "Event 550000 306432:322:1.02e+02\n",
      "Event 555000 306432:322:1.11e+02\n",
      "Event 560000 306432:327:1.01e+02\n",
      "Event 565000 306432:327:1.02e+02\n",
      "Event 570000 306432:329:1.01e+02\n",
      "Event 575000 306432:329:1.01e+02\n",
      "ZB indeces:  [447, 448, 449, 450, 451, 452, 453, 454, 455]\n",
      "Trigger  451 HLT_ZeroBias_part3_v6\n",
      "Trigger  456 DST_ZeroBias_v2\n",
      "Trigger  497 AlCa_EcalPhiSym_v8\n",
      "Event 245000 306432:308:1.98e+02\n",
      "Event 250000 306432:308:2.02e+02\n",
      "Event 255000 306432:309:1.97e+02\n",
      "Event 260000 306432:309:1.96e+02\n",
      "Event 265000 306432:313:2.03e+02\n",
      "Event 270000 306432:313:2.02e+02\n",
      "Event 275000 306432:314:1.95e+02\n",
      "Event 280000 306432:318:1.97e+02\n",
      "Event 285000 306432:318:1.80e+02\n",
      "Event 290000 306432:330:1.01e+02\n",
      "Event 295000 306432:330:1.00e+02\n",
      "1384746\n",
      "4\n",
      "done\n"
     ]
    }
   ],
   "source": [
    "f1 = fullFileName(tier0+'/store/data/Run2017F/ZeroBias4/MINIAOD/PromptReco-v1/000/306/432/00000/', \\\n",
    "['2E885A64-3EC7-E711-8D0D-02163E019C87.root','8E9534C0-40C7-E711-A529-02163E0140D6.root','D09D212D-51C7-E711-A545-02163E014412.root']\n",
    "                 )\n",
    "f2 = [tier0+'/store/data/Run2017F/ZeroBias/MINIAOD/PromptReco-v1/000/306/135/00000/8C5C6752-63C5-E711-B4C4-02163E0120F0.root']\n",
    "l1 = (174,186)\n",
    "l2 = (300,330)\n",
    "l3 = (0,1000)\n",
    "p = Pool(4)\n",
    "ret = p.map(loop,[(f1,l1),(f1,l2),(f2,l3)])\n",
    "#ne,tkPars = zip(*ret)"
   ]
  },
  {
   "cell_type": "code",
   "execution_count": 7,
   "metadata": {
    "collapsed": false
   },
   "outputs": [],
   "source": [
    "p.terminate()"
   ]
  },
  {
   "cell_type": "code",
   "execution_count": 14,
   "metadata": {
    "collapsed": true
   },
   "outputs": [],
   "source": [
    "def plots(ret) :\n",
    "    eta=0\n",
    "    phi=1\n",
    "    pt=2\n",
    "    w=3\n",
    "    yy = []\n",
    "    for rid,ne,tkPars in ret :\n",
    "      ya,x = np.histogram(tkPars[eta],np.linspace(-3.1,3.1,62),weights=10./float(ne)*tkPars[w])\n",
    "      x.resize(len(ya))\n",
    "      yy.append(ya)\n",
    "      plt.step(x,ya,where='post',label=rid)\n",
    "    plt.grid(True)\n",
    "    plt.legend(bbox_to_anchor=(1.05, 1), loc=2, borderaxespad=0.)\n",
    "    plt.xlim(-3.1,3.1)\n",
    "    plt.xlabel('eta')\n",
    "    plt.ylabel('dn/deta')\n",
    "    plt.show()\n",
    "\n",
    "    k=0\n",
    "    for y in yy :\n",
    "        plt.step(x,y/yy[0],where='post',label=ret[k][0])\n",
    "        k+=1\n",
    "    plt.grid(True)\n",
    "    plt.legend(bbox_to_anchor=(1.05, 1), loc=2, borderaxespad=0.)\n",
    "    plt.xlim(-3.1,3.1)\n",
    "    plt.xlabel('eta')\n",
    "    plt.ylabel('eff')\n",
    "    plt.show()\n"
   ]
  },
  {
   "cell_type": "code",
   "execution_count": 15,
   "metadata": {
    "collapsed": false
   },
   "outputs": [
    {
     "data": {
      "image/png": "[encoded data removed]",
      "text/plain": [
       "<matplotlib.figure.Figure at 0x7fd1fc2d1790>"
      ]
     },
     "metadata": {},
     "output_type": "display_data"
    },
    {
     "data": {
      "image/png": "[encoded data removed]",
      "text/plain": [
       "<matplotlib.figure.Figure at 0x7fd1fc40ecd0>"
      ]
     },
     "metadata": {},
     "output_type": "display_data"
    }
   ],
   "source": [
    "plots(ret)"
   ]
  }
 ],
 "metadata": {
  "kernelspec": {
   "display_name": "Python 2",
   "language": "python",
   "name": "python2"
  },
  "language_info": {
   "codemirror_mode": {
    "name": "ipython",
    "version": 2
   },
   "file_extension": ".py",
   "mimetype": "text/x-python",
   "name": "python",
   "nbconvert_exporter": "python",
   "pygments_lexer": "ipython2",
   "version": "2.7.11"
  }
 },
 "nbformat": 4,
 "nbformat_minor": 2
}
