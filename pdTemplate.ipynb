{
 "cells": [
  {
   "cell_type": "code",
   "execution_count": 107,
   "metadata": {
    "collapsed": false
   },
   "outputs": [
    {
     "data": {
      "application/javascript": [
       "IPython.OutputArea.prototype._should_scroll = function(lines) {\n",
       "    return false;\n",
       "}"
      ],
      "text/plain": [
       "<IPython.core.display.Javascript object>"
      ]
     },
     "metadata": {},
     "output_type": "display_data"
    }
   ],
   "source": [
    "%%javascript\n",
    "IPython.OutputArea.prototype._should_scroll = function(lines) {\n",
    "    return false;\n",
    "}"
   ]
  },
  {
   "cell_type": "code",
   "execution_count": 108,
   "metadata": {
    "collapsed": false
   },
   "outputs": [],
   "source": [
    "import matplotlib\n",
    "import matplotlib.pyplot as plt\n",
    "import glob\n",
    "import math\n",
    "import numpy as np\n",
    "import pandas as pd\n",
    "import numba\n"
   ]
  },
  {
   "cell_type": "code",
   "execution_count": 109,
   "metadata": {
    "collapsed": false,
    "scrolled": false
   },
   "outputs": [
    {
     "name": "stdout",
     "output_type": "stream",
     "text": [
      "     x    y\n",
      "0  0.0  0.0\n",
      "1  1.0 -1.0\n",
      "2 -2.0  2.0\n"
     ]
    }
   ],
   "source": [
    "mdf = pd.DataFrame({\n",
    "        'x' : [0.,1.,-2.],\n",
    "        'y' : [0.,-1.,2.]\n",
    "        })\n",
    "print mdf"
   ]
  },
  {
   "cell_type": "code",
   "execution_count": 110,
   "metadata": {
    "collapsed": true
   },
   "outputs": [],
   "source": [
    "@numba.vectorize(nopython=True)\n",
    "def foo(dfx) :\n",
    "#    print 'foo'\n",
    "    return dfx >0\n",
    "\n",
    "@numba.vectorize(nopython=True)\n",
    "def bar(dfx) :\n",
    "#    print 'bar'\n",
    "    return dfx >-2\n",
    "\n",
    "@numba.vectorize(nopython=True)\n",
    "def cond(dfx,dfy) :\n",
    "    return dfx < dfy"
   ]
  },
  {
   "cell_type": "code",
   "execution_count": 111,
   "metadata": {
    "collapsed": false
   },
   "outputs": [
    {
     "name": "stdout",
     "output_type": "stream",
     "text": [
      "The slowest run took 9349.55 times longer than the fastest. This could mean that an intermediate result is being cached.\n",
      "100000 loops, best of 3: 13.8 µs per loop\n",
      " [ True  True False]\n",
      "     x    y\n",
      "0  0.0  0.0\n",
      "1  1.0 -1.0\n",
      "10000 loops, best of 3: 164 µs per loop\n",
      "      x    y\n",
      "0  0.0  0.0\n",
      "1  1.0 -1.0\n",
      "10000 loops, best of 3: 171 µs per loop\n",
      "      x    y\n",
      "0  0.0  0.0\n",
      "1  1.0 -1.0\n"
     ]
    }
   ],
   "source": [
    "%timeit a = np.where(cond(mdf['x'].values,mdf['y'].values),foo(mdf['x'].values),bar(mdf['x'].values))\n",
    "%prun -l 4 a = np.where(cond(mdf['x'].values,mdf['y'].values),foo(mdf['x'].values),bar(mdf['x'].values))\n",
    "print a\n",
    "print mdf.loc[a]\n",
    "%timeit a = mdf.loc[np.where(cond(mdf['x'].values,mdf['y'].values),foo(mdf['x'].values),bar(mdf['x'].values))]\n",
    "%prun -l 4 a = mdf.loc[np.where(cond(mdf['x'].values,mdf['y'].values),foo(mdf['x'].values),bar(mdf['x'].values))]\n",
    "print a\n",
    "%timeit a = mdf.loc[lambda df : np.where(cond(df['x'].values,df['y'].values),foo(df['x'].values),bar(df['x'].values))]\n",
    "%prun -l 4 a = mdf.loc[lambda df : np.where(cond(df['x'].values,df['y'].values),foo(df['x'].values),bar(df['x'].values))]\n",
    "print a"
   ]
  },
  {
   "cell_type": "code",
   "execution_count": 113,
   "metadata": {
    "collapsed": false
   },
   "outputs": [
    {
     "name": "stdout",
     "output_type": "stream",
     "text": [
      " "
     ]
    }
   ],
   "source": [
    "%prun -l 4 a = mdf.loc[lambda df : np.where(cond(df['x'].values,df['y'].values),foo(df['x'].values),bar(df['x'].values))]\n"
   ]
  }
 ],
 "metadata": {
  "kernelspec": {
   "display_name": "Python 2",
   "language": "python",
   "name": "python2"
  },
  "language_info": {
   "codemirror_mode": {
    "name": "ipython",
    "version": 2
   },
   "file_extension": ".py",
   "mimetype": "text/x-python",
   "name": "python",
   "nbconvert_exporter": "python",
   "pygments_lexer": "ipython2",
   "version": "2.7.9"
  }
 },
 "nbformat": 4,
 "nbformat_minor": 1
}
