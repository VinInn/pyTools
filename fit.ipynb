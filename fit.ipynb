{
 "cells": [
  {
   "cell_type": "code",
   "execution_count": 1,
   "metadata": {},
   "outputs": [
    {
     "data": {
      "application/javascript": [
       "IPython.OutputArea.prototype._should_scroll = function(lines) {\n",
       "    return false;\n",
       "}\n"
      ],
      "text/plain": [
       "<IPython.core.display.Javascript object>"
      ]
     },
     "metadata": {},
     "output_type": "display_data"
    }
   ],
   "source": [
    "%%javascript\n",
    "IPython.OutputArea.prototype._should_scroll = function(lines) {\n",
    "    return false;\n",
    "}"
   ]
  },
  {
   "cell_type": "code",
   "execution_count": 2,
   "metadata": {},
   "outputs": [],
   "source": [
    "import matplotlib\n",
    "import matplotlib.pyplot as plt\n",
    "import glob\n",
    "import math\n",
    "import numpy as np\n",
    "import pandas as pd\n",
    "from bisect import *\n",
    "from decimal import Decimal\n",
    "from scipy.optimize import curve_fit"
   ]
  },
  {
   "cell_type": "code",
   "execution_count": 27,
   "metadata": {},
   "outputs": [
    {
     "name": "stdout",
     "output_type": "stream",
     "text": [
      "27 27\n",
      "[  55.73411261 -131.19114854  583.84576629 -440.51423473   99.91044255]\n"
     ]
    },
    {
     "data": {
      "text/plain": [
       "<function matplotlib.pyplot.show(*args, **kw)>"
      ]
     },
     "execution_count": 27,
     "metadata": {},
     "output_type": "execute_result"
    },
    {
     "data": {
      "image/png": "[encoded data removed]",
      "text/plain": [
       "<Figure size 432x288 with 1 Axes>"
      ]
     },
     "metadata": {
      "needs_background": "light"
     },
     "output_type": "display_data"
    }
   ],
   "source": [
    "# ey = np.array([50., 51., 51., 57., 66., 75., 83., 92., 100., 109., 118., 129., 141., 151., 156., 160., 164., 169., 173., 176., 178., 182., 186., 191., 191., 189., 186., 178., 171., 167., 166., 165., 176., 191., 203., 201., 199., 193., 184., 175., 173., 171., 174., 188., 202., 206])\n",
    "ey = np.array([50., 51., 51., 57., 66., 75., 83., 92., 100., 109., 118., 129., 141., 151., 156., 160., 164., 169., 173., 176., 178., 182., 186., 191., 191., 195.,201.])\n",
    "err =  np.empty(len(ey))\n",
    "er.fill(10.)\n",
    "bin_centres = np.arange(start=0.175,stop=0.175+0.05*len(ey),step=0.05)\n",
    "print (len(ey), len(bin_centres))\n",
    "\n",
    "def p3(x, *p):\n",
    "    a0,a1,a2,a3,a4 = p\n",
    "    return a0+x*(a1+x*(a2+x*(a3+x*a4)))\n",
    "\n",
    "# p0 is the initial guess for the fitting coefficients\n",
    "p0 = [1., 0.5, 0.,0.,0.]\n",
    "\n",
    "coeff, var_matrix = curve_fit(p3, bin_centres, ey, p0=p0, sigma=err)\n",
    "print(coeff)\n",
    "# Get the fitted curve\n",
    "hist_fit = p3(bin_centres, *coeff)\n",
    "# print(hist_fit)\n",
    "\n",
    "\n",
    "plt.step(bin_centres, ey, label='', where='mid')\n",
    "plt.plot(bin_centres, hist_fit, label='')\n",
    "plt.grid()\n",
    "plt.show"
   ]
  },
  {
   "cell_type": "code",
   "execution_count": 60,
   "metadata": {},
   "outputs": [
    {
     "name": "stdout",
     "output_type": "stream",
     "text": [
      "13 13 14\n"
     ]
    }
   ],
   "source": [
    "chi2 = np.array([1.1,1.6832680195,2.1419517475,2.4151718822,2.8056427254,2.883004237,2.9962983052,3.07511163,3.2028987131,3.3467331513,3.2110779156,3.4331270667,3.6743670329])\n",
    "err =np.array([0.014508,0.00843219,0.0225587,0.0419361,0.0702273,0.0938654,0.114591,0.136352,0.166318,0.195104,0.188938,0.244216,0.30525])\n",
    "bin_edges = np.array([0.1,1.1,2.1,3.1,4.1,5.1,6.1,7.1,8.1,9.1,10.1,11.1,12.1,13.1])\n",
    "bin_centres = (bin_edges[:-1] + bin_edges[1:])/2\n",
    "\n",
    "print len(chi2),len(err),len(bin)"
   ]
  },
  {
   "cell_type": "code",
   "execution_count": 61,
   "metadata": {},
   "outputs": [
    {
     "name": "stdout",
     "output_type": "stream",
     "text": [
      "[ 0.68177776  0.74609577 -0.08035491  0.00315399]\n",
      "[1.10118872 1.68274116 2.13386206 2.47347532 2.72050485 2.89387457\n",
      " 3.01250838 3.09533021 3.16126396 3.22923354 3.31816288 3.44697587\n",
      " 3.63459643]\n"
     ]
    },
    {
     "data": {
      "image/png": "[encoded data removed]",
      "text/plain": [
       "<Figure size 432x288 with 1 Axes>"
      ]
     },
     "metadata": {},
     "output_type": "display_data"
    }
   ],
   "source": [
    "  # Define model function to be used to fit to the data above:\n",
    "  def p2(x, *p):\n",
    "    a0,a1,a2 = p\n",
    "    a3=0\n",
    "    return a0+x*(a1+x*(a2+a3*x))\n",
    "\n",
    "  def p3(x, *p):\n",
    "    a0,a1,a2,a3 = p\n",
    "    return a0+x*(a1+x*(a2+a3*x))\n",
    "\n",
    "  # p0 is the initial guess for the fitting coefficients\n",
    "  p0 = [1., 0.5, 0.,0.]\n",
    "\n",
    "  coeff, var_matrix = curve_fit(p3, bin_centres, chi2, p0=p0, sigma=err)\n",
    "  print coeff\n",
    "  # Get the fitted curve\n",
    "  hist_fit = p3(bin_centres, *coeff)\n",
    "  print hist_fit\n",
    "  plt.step(bin_centres, chi2, label='', where='mid')\n",
    "  plt.plot(bin_centres, hist_fit, label='')\n",
    "  plt.grid()\n",
    "  plt.show()\n",
    "\n"
   ]
  }
 ],
 "metadata": {
  "kernelspec": {
   "display_name": "Python 3",
   "language": "python",
   "name": "python3"
  },
  "language_info": {
   "codemirror_mode": {
    "name": "ipython",
    "version": 3
   },
   "file_extension": ".py",
   "mimetype": "text/x-python",
   "name": "python",
   "nbconvert_exporter": "python",
   "pygments_lexer": "ipython3",
   "version": "3.8.3"
  }
 },
 "nbformat": 4,
 "nbformat_minor": 2
}
