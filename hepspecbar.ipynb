{
 "cells": [
  {
   "cell_type": "code",
   "execution_count": 121,
   "metadata": {},
   "outputs": [
    {
     "data": {
      "application/javascript": [
       "IPython.OutputArea.prototype._should_scroll = function(lines) {\n",
       "    return false;\n",
       "}\n"
      ],
      "text/plain": [
       "<IPython.core.display.Javascript object>"
      ]
     },
     "metadata": {},
     "output_type": "display_data"
    }
   ],
   "source": [
    "%%javascript\n",
    "IPython.OutputArea.prototype._should_scroll = function(lines) {\n",
    "    return false;\n",
    "}"
   ]
  },
  {
   "cell_type": "code",
   "execution_count": 122,
   "metadata": {},
   "outputs": [],
   "source": [
    "import matplotlib\n",
    "import matplotlib.pyplot as plt\n",
    "import glob\n",
    "import math\n",
    "import numpy as np\n",
    "#import pandas as pd\n",
    "from bisect import *\n",
    "from decimal import Decimal\n",
    "#from scipy.optimize import curve_fit\n",
    "#import scipy.special as sps"
   ]
  },
  {
   "cell_type": "code",
   "execution_count": 123,
   "metadata": {},
   "outputs": [],
   "source": [
    "def parseCountsNorm(di,denName):\n",
    "    do = {}\n",
    "    for wf in di :\n",
    "      den = 1.\n",
    "      if (denName!='') : den = di[wf][denName]\n",
    "      if (denName=='seconds') : den*=1000.*1000.*1000.\n",
    "      for k in di[wf] :\n",
    "        ko = k\n",
    "        if (k=='msec') :\n",
    "          ko='nsec'\n",
    "        if(k=='seconds') : ko='wall-clock-ns'\n",
    "        if not ko in do : do[ko] = {}\n",
    "        do[ko][wf] = di[wf][k]/den\n",
    "        if (ko=='nsec') :  do[ko][wf]*=1000.*1000.\n",
    "        if (ko=='wall-clock-ns') :  do[ko][wf]*=1000*1000.*1000.\n",
    "    return do\n",
    "\n",
    "\n",
    "def doPrint(di) :\n",
    "  s = '|' + ' | '\n",
    "  for wf  in di['cycles'] :\n",
    "    s+= ' ' + wf + ' |'\n",
    "  s += '|'\n",
    "  print(s)\n",
    "  for k in di :\n",
    "    s = '|' + k + ' | '\n",
    "    for wf  in di[k] :\n",
    "        v = di[k][wf]\n",
    "        s+= ' ' + \"{:6.4f}\".format(v)  + ' | '\n",
    "    s += '|'\n",
    "    print(s)\n",
    "\n",
    "\n",
    "def parseCounts(fname) :\n",
    "  nop=0\n",
    "  d ={}\n",
    "  with open(fname) as f:\n",
    "    print('\\n\\n---++ '+fname)\n",
    "    for line in f:\n",
    "      try:\n",
    "        (wf, val, key) = line.split()\n",
    "        d[wf] = {}\n",
    "      except:\n",
    "        nop+=1\n",
    "  with open(fname) as f:\n",
    "    for line in f:\n",
    "      try:\n",
    "        (wf, val, key) = line.split()\n",
    "        d[wf][key]= float(val)\n",
    "      except:\n",
    "        nop+=1\n",
    "  return d\n",
    "\n",
    "def parseOne(fname) :\n",
    "  d = parseCounts(fname)\n",
    "  dr = parseCountsNorm(d,'')\n",
    "  dc = parseCountsNorm(d,'cycles')\n",
    "  di = parseCountsNorm(d,'instructions')\n",
    "  ds = parseCountsNorm(d,'seconds')\n",
    "  return [dc,di,ds,dr]"
   ]
  },
  {
   "cell_type": "code",
   "execution_count": 124,
   "metadata": {},
   "outputs": [
    {
     "name": "stdout",
     "output_type": "stream",
     "text": [
      "\n",
      "\n",
      "---++ /Users/innocent/cernbox/HepSpec/Broadwell/broadwellFull.count\n",
      "\n",
      "\n",
      "---++ /Users/innocent/cernbox/HepSpec/Skylake/skylakeFull.count\n",
      "\n",
      "\n",
      "---++ /Users/innocent/cernbox/HepSpec/Icelake/icelakeFull.count\n",
      "\n",
      "\n",
      "---++ /Users/innocent/cernbox/HepSpec/Icelake/icelakeFull.ports\n"
     ]
    }
   ],
   "source": [
    "dir = '/Users/innocent/cernbox/HepSpec/'\n",
    "# files = [dir+\"Haswell/haswell.count\",dir+\"Skylake/skylake.count\",dir+\"Icelake/icelake.count\"]\n",
    "files = [dir+\"Broadwell/broadwellFull.count\",dir+\"Skylake/skylakeFull.count\",dir+\"Icelake/icelakeFull.count\"]\n",
    "scores={}\n",
    "scores['Broadwell']=parseOne(files[0])\n",
    "scores['Skylake']=parseOne(files[1])\n",
    "scores['Icelake']=parseOne(files[2])\n",
    "ports = parseCounts(dir+\"Icelake/icelakeFull.ports\")"
   ]
  },
  {
   "cell_type": "code",
   "execution_count": 125,
   "metadata": {},
   "outputs": [
    {
     "name": "stdout",
     "output_type": "stream",
     "text": [
      "['aliceSim10', 'atlaSim10', 'atlasGen500', 'atlasReco200', 'cmsDigi100', 'cmsRecoDQM100', 'cmsSim50', 'igwn', 'lhcbSim50']\n"
     ]
    }
   ],
   "source": [
    "norNames = ['cycles','instructions','wall-clock','']\n",
    "di = scores['Broadwell'][0]['cycles']\n",
    "labels = []\n",
    "for wf in di : labels.append(wf)\n",
    "print(labels)"
   ]
  },
  {
   "cell_type": "code",
   "execution_count": 126,
   "metadata": {},
   "outputs": [],
   "source": [
    "def plotIt(var,nor) :\n",
    "    norName = norNames[nor]\n",
    "    plt.rcParams[\"figure.figsize\"] = (15,6)\n",
    "    haswell = []\n",
    "    skylake = []\n",
    "    icelake = []\n",
    "    dh = scores['Broadwell'][nor][var]\n",
    "    for wf in dh : haswell.append(dh[wf])\n",
    "    ds = scores['Skylake'][nor][var]\n",
    "    for wf in ds : skylake.append(ds[wf])\n",
    "    di = scores['Icelake'][nor][var]\n",
    "    for wf in di : icelake.append(di[wf])\n",
    "  \n",
    "    x = np.arange(len(labels))  # the label locations\n",
    "    width = 0.2  # the width of a bar\n",
    "\n",
    "    fig, ax = plt.subplots()\n",
    "    rects3 = ax.bar(x + width/2, icelake, width, label='Icelake')\n",
    "    rects2 = ax.bar(x - width/2, skylake, width, label='Skylake')\n",
    "    rects1 = ax.bar(x - 3*width/2, haswell, width, label='Broadwell')\n",
    "\n",
    "    # Add some text for labels, title and custom x-axis tick labels, etc.\n",
    "    label = var\n",
    "    if (len(norName)>0) : label = var+'/'+norName\n",
    "    ax.set_ylabel(label)\n",
    "    ax.set_title(label)\n",
    "    ax.set_xticks(x,labels)\n",
    "    ax.legend()\n",
    "\n",
    "    ax.bar_label(rects1, padding=3)\n",
    "    ax.bar_label(rects2, padding=3)\n",
    "    ax.bar_label(rects3, padding=3)\n",
    "\n",
    "    # fig.tight_layout()\n",
    "\n",
    "    plt.show()\n",
    "\n",
    "    skylake = []\n",
    "    icelake = []\n",
    "    for wf in ds : skylake.append(ds[wf]/dh[wf])\n",
    "    for wf in di : icelake.append(di[wf]/dh[wf])\n",
    "    width = 0.4  # the width of a bar\n",
    "    fig, ax = plt.subplots()\n",
    "    rects3 = ax.bar(x + width/2, icelake, width, label='Icelake')\n",
    "    rects2 = ax.bar(x - width/2, skylake, width, label='Skylake')\n",
    "    label = var\n",
    "    if (len(norName)>0) : label = var+'/'+norName\n",
    "    ax.set_ylabel(label)\n",
    "    ax.set_title(label+' (normalize to Broadwell)')\n",
    "    ax.set_xticks(x,labels)\n",
    "    ax.legend()\n",
    "\n",
    "    ax.bar_label(rects2, padding=3)\n",
    "    ax.bar_label(rects3, padding=3)\n",
    "\n",
    "    # fig.tight_layout()\n",
    "\n",
    "    plt.show()\n",
    "\n",
    "\n"
   ]
  },
  {
   "cell_type": "code",
   "execution_count": 127,
   "metadata": {},
   "outputs": [
    {
     "data": {
      "image/png": "[encoded data removed]",
      "text/plain": [
       "<Figure size 1440x720 with 1 Axes>"
      ]
     },
     "metadata": {
      "needs_background": "light"
     },
     "output_type": "display_data"
    }
   ],
   "source": [
    "def doSum(vars,nor) :\n",
    "    di = scores['Icelake'][nor]\n",
    "    ret = []\n",
    "    for wf in labels :\n",
    "        q = 0.\n",
    "        for var in vars : q += di[var][wf]\n",
    "        ret.append(q)\n",
    "    return ret\n",
    "def instrBD() :\n",
    "    plt.rcParams[\"figure.figsize\"] = (20,10)\n",
    "    load = ['mem_load_retired.l1_hit','mem_load_retired.l2_hit','mem_load_retired.l3_hit','mem_load_retired.l3_miss']\n",
    "    store = ['mem_inst_retired.all_stores']\n",
    "    fpv = ['fp_arith_inst_retired.256b_packed_single','fp_arith_inst_retired.256b_packed_double','fp_arith_inst_retired.512b_packed_single','fp_arith_inst_retired.512b_packed_double']\n",
    "    fps = ['fp_arith_inst_retired.scalar_single','fp_arith_inst_retired.scalar_double']\n",
    "    br = ['branch-instructions']\n",
    "    x = np.arange(len(labels))  # the label locations\n",
    "    width = 0.4  # the width of a bar\n",
    "\n",
    "    fig, ax = plt.subplots()\n",
    "    rects0 = ax.bar(x - width/2, doSum(load,1), width, label='memory load')\n",
    "    all = load\n",
    "    rects1 = ax.bar(x - width/2, doSum(store,1), width, label='memory store',bottom=doSum(all,1))\n",
    "    all += store\n",
    "    rects2 = ax.bar(x - width/2, doSum(br,1), width, label='braches',bottom=doSum(all,1))\n",
    "    all += br\n",
    "    rects3 = ax.bar(x - width/2, doSum(fps,1), width, label='fp scalar',bottom=doSum(all,1))\n",
    "    all += fps\n",
    "    rects4 = ax.bar(x - width/2, doSum(fpv,1), width, label='fp vector',bottom=doSum(all,1))\n",
    "    ax.set_ylim(0.,1.)\n",
    "    ax.set_title('Instruction breakdown')\n",
    "    ax.set_xticks(x,labels)\n",
    "    ax.legend()\n",
    "    plt.show()\n",
    "\n",
    "instrBD()\n",
    "    "
   ]
  },
  {
   "cell_type": "code",
   "execution_count": 129,
   "metadata": {},
   "outputs": [
    {
     "data": {
      "image/png": "[encoded data removed]",
      "text/plain": [
       "<Figure size 1440x720 with 1 Axes>"
      ]
     },
     "metadata": {
      "needs_background": "light"
     },
     "output_type": "display_data"
    }
   ],
   "source": [
    "def portBD() :\n",
    "    vals = {}\n",
    "    pname = []\n",
    "    for port in ports[labels[0]] :\n",
    "        pname.append(port)\n",
    "        vals[port] = []\n",
    "    for wf in ports :\n",
    "        tot = 0.\n",
    "        for port in ports[wf] : \n",
    "            tot +=ports[wf][port]\n",
    "        for port in ports[wf] :\n",
    "            vals[port].append(ports[wf][port]/tot)\n",
    "\n",
    "        \n",
    "    x = np.arange(len(labels))  # the label locations\n",
    "    width = 0.4  # the width of a bar\n",
    "\n",
    "    fig, ax = plt.subplots()\n",
    "    all = [0. for v in vals[pname[0]]] \n",
    "    for name in pname : \n",
    "        rects1 = ax.bar(x - width/2, vals[name], width, label=name,bottom=all)\n",
    "        all = [x + y for (x, y) in zip(all, vals[name])] \n",
    "    ax.set_ylim(0.,1.)\n",
    "    ax.set_title('Port breakdown')\n",
    "    ax.set_xticks(x,labels)\n",
    "    ax.legend()\n",
    "    plt.show()\n",
    "        \n",
    "portBD()\n"
   ]
  },
  {
   "cell_type": "code",
   "execution_count": null,
   "metadata": {},
   "outputs": [],
   "source": [
    "def plotOne(var,nor) :\n",
    "    norName = norNames[nor]\n",
    "    plt.rcParams[\"figure.figsize\"] = (12,4)\n",
    "    icelake = []\n",
    "    di = scores['Icelake'][nor][var]\n",
    "    for wf in di : icelake.append(di[wf])\n",
    "  \n",
    "    x = np.arange(len(labels))  # the label locations\n",
    "    width = 0.4  # the width of a bar\n",
    "\n",
    "    fig, ax = plt.subplots()\n",
    "    rects2 = ax.bar(x - width/2, icelake, width, label='Icelake')\n",
    "\n",
    "    # Add some text for labels, title and custom x-axis tick labels, etc.\n",
    "    label = var\n",
    "    if (len(norName)>0) : label = var+'/'+norName\n",
    "    ax.set_ylabel(label)\n",
    "    ax.set_title(label)\n",
    "    ax.set_xticks(x,labels)\n",
    "    ax.legend()\n",
    "    ax.bar_label(rects2, padding=3)\n",
    "\n",
    "\n",
    "    # fig.tight_layout()\n",
    "\n",
    "    plt.show()\n",
    "\n",
    "def plotSum(vars,nor,title) :\n",
    "    norName = norNames[nor]\n",
    "    plt.rcParams[\"figure.figsize\"] = (12,4)\n",
    "    icelake = []\n",
    "    di = scores['Icelake'][nor]\n",
    "    for wf in labels :\n",
    "        q = 0.\n",
    "        for var in vars : q += di[var][wf]\n",
    "        icelake.append(q)\n",
    "  \n",
    "    x = np.arange(len(labels))  # the label locations\n",
    "    width = 0.4  # the width of a bar\n",
    "\n",
    "    fig, ax = plt.subplots()\n",
    "    rects2 = ax.bar(x - width/2, icelake, width, label='Icelake')\n",
    "\n",
    "    # Add some text for labels, title and custom x-axis tick labels, etc.\n",
    "    ax.set_ylabel(title+'/'+norName)\n",
    "    ax.set_title(title)\n",
    "    ax.set_xticks(x,labels)\n",
    "    ax.legend()\n",
    "    ax.bar_label(rects2, padding=3)\n",
    "\n",
    "\n",
    "    # fig.tight_layout()\n",
    "\n",
    "    plt.show()\n"
   ]
  },
  {
   "cell_type": "code",
   "execution_count": null,
   "metadata": {},
   "outputs": [],
   "source": [
    "plotIt('wall-clock-ns',3)\n",
    "plotIt('instructions',3)\n",
    "plotIt('cycles',3)\n",
    "plotIt('instructions',0)\n",
    "plotIt('instructions',2)\n",
    "plotIt('nsec',2)\n",
    "plotIt('uops_executed.stall_cycles',0)\n",
    "plotIt('uops_executed.cycles_ge_4',0)\n",
    "plotIt('uops_executed.cycles_ge_2',0)\n",
    "plotIt('uops_executed.cycles_ge_1',0)\n",
    "plotIt('rs_events.empty_cycles',0)\n",
    "plotIt('cycle_activity.stalls_mem_any',0)\n",
    "plotIt('icache.ifdata_stall',0)\n",
    "plotIt('iTLB-load-misses',1)\n",
    "plotIt('branch-instructions',1)\n",
    "plotIt('branch-misses',1)\n",
    "plotIt('mem_load_retired.l1_hit',1)\n",
    "plotIt('mem_load_retired.l3_hit',1)\n",
    "plotIt('mem_load_retired.l3_miss',1)\n",
    "\n"
   ]
  },
  {
   "cell_type": "code",
   "execution_count": null,
   "metadata": {},
   "outputs": [],
   "source": [
    "plotOne('cycle_activity.stalls_mem_any',0)\n",
    "plotOne('cycle_activity.stalls_l3_miss',0)\n",
    "plotOne('icache.ifdata_stall',0)\n",
    "plotOne('iTLB-load-misses',1)\n",
    "plotOne('core_power.lvl0_turbo_license',0)\n",
    "plotOne('topdown.backend_bound_slots',0)\n",
    "plotOne('arith.divider_active',0)\n",
    "plotOne('fp_arith_inst_retired.scalar_double',1)\n",
    "plotSum(['fp_arith_inst_retired.scalar_single','fp_arith_inst_retired.scalar_double'],1,'fp.scalar')\n",
    "plotSum(['fp_arith_inst_retired.128b_packed_single','fp_arith_inst_retired.128b_packed_double'],1,'fp.vectorSSE')\n",
    "plotSum(['fp_arith_inst_retired.256b_packed_single','fp_arith_inst_retired.256b_packed_double','fp_arith_inst_retired.512b_packed_single','fp_arith_inst_retired.512b_packed_double'],1,'fp.vectorAVX')"
   ]
  },
  {
   "cell_type": "code",
   "execution_count": null,
   "metadata": {},
   "outputs": [],
   "source": []
  }
 ],
 "metadata": {
  "kernelspec": {
   "display_name": "Python 3 (ipykernel)",
   "language": "python",
   "name": "python3"
  },
  "language_info": {
   "codemirror_mode": {
    "name": "ipython",
    "version": 3
   },
   "file_extension": ".py",
   "mimetype": "text/x-python",
   "name": "python",
   "nbconvert_exporter": "python",
   "pygments_lexer": "ipython3",
   "version": "3.7.3"
  }
 },
 "nbformat": 4,
 "nbformat_minor": 4
}
